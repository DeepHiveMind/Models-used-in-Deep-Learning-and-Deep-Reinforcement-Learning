{
  "nbformat": 4,
  "nbformat_minor": 0,
  "metadata": {
    "colab": {
      "name": "Tensorflow Matrix basic function Examples",
      "version": "0.3.2",
      "provenance": [],
      "include_colab_link": true
    },
    "kernelspec": {
      "name": "python3",
      "display_name": "Python 3"
    }
  },
  "cells": [
    {
      "cell_type": "markdown",
      "metadata": {
        "id": "view-in-github",
        "colab_type": "text"
      },
      "source": [
        "<a href=\"https://colab.research.google.com/github/DeepHiveMind/Models-used-in-Deep-Learning-and-Deep-Reinforcement-Learning/blob/master/Tensorflow_Matrix_basic_function_Examples.ipynb\" target=\"_parent\"><img src=\"https://colab.research.google.com/assets/colab-badge.svg\" alt=\"Open In Colab\"/></a>"
      ]
    },
    {
      "metadata": {
        "id": "8EMU76x5fudx",
        "colab_type": "code",
        "colab": {}
      },
      "cell_type": "code",
      "source": [
        "import tensorflow as tf\n",
        "input1 = tf.ones((2, 3))"
      ],
      "execution_count": 0,
      "outputs": []
    },
    {
      "metadata": {
        "id": "htioUBnlfuU_",
        "colab_type": "code",
        "outputId": "100c51e4-18b3-49cc-fc84-8ad6fb15c255",
        "colab": {
          "base_uri": "https://localhost:8080/",
          "height": 34
        }
      },
      "cell_type": "code",
      "source": [
        "input"
      ],
      "execution_count": 0,
      "outputs": [
        {
          "output_type": "execute_result",
          "data": {
            "text/plain": [
              "<bound method Kernel.raw_input of <google.colab._kernel.Kernel object at 0x7fe74cb35cf8>>"
            ]
          },
          "metadata": {
            "tags": []
          },
          "execution_count": 3
        }
      ]
    },
    {
      "metadata": {
        "id": "PNrAI4JSfuH8",
        "colab_type": "code",
        "colab": {}
      },
      "cell_type": "code",
      "source": [
        "input2 = tf.reshape(tf.range(1, 7, dtype=tf.float32), (2, 3))"
      ],
      "execution_count": 0,
      "outputs": []
    },
    {
      "metadata": {
        "id": "PyZ7ZiqBft3j",
        "colab_type": "code",
        "colab": {}
      },
      "cell_type": "code",
      "source": [
        "output = input1 + input2"
      ],
      "execution_count": 0,
      "outputs": []
    },
    {
      "metadata": {
        "id": "nRG-n8cKftjo",
        "colab_type": "code",
        "outputId": "1d5f190d-4030-48c2-f226-91593bbf2c2f",
        "colab": {
          "base_uri": "https://localhost:8080/",
          "height": 34
        }
      },
      "cell_type": "code",
      "source": [
        "output"
      ],
      "execution_count": 0,
      "outputs": [
        {
          "output_type": "execute_result",
          "data": {
            "text/plain": [
              "<tf.Tensor 'add:0' shape=(2, 3) dtype=float32>"
            ]
          },
          "metadata": {
            "tags": []
          },
          "execution_count": 6
        }
      ]
    },
    {
      "metadata": {
        "id": "xdwLJXmgfmK2",
        "colab_type": "code",
        "outputId": "ae2a8d29-95d5-4d68-be2f-f9ec47186af1",
        "colab": {
          "base_uri": "https://localhost:8080/",
          "height": 34
        }
      },
      "cell_type": "code",
      "source": [
        "input2"
      ],
      "execution_count": 0,
      "outputs": [
        {
          "output_type": "execute_result",
          "data": {
            "text/plain": [
              "<tf.Tensor 'Reshape:0' shape=(2, 3) dtype=float32>"
            ]
          },
          "metadata": {
            "tags": []
          },
          "execution_count": 8
        }
      ]
    },
    {
      "metadata": {
        "id": "Xu5jrPh7iXEn",
        "colab_type": "code",
        "outputId": "32933fd2-e39d-4459-9092-b175422629ec",
        "colab": {
          "base_uri": "https://localhost:8080/",
          "height": 51
        }
      },
      "cell_type": "code",
      "source": [
        "with tf.Session():\n",
        "  result = output.eval()\n",
        "result  "
      ],
      "execution_count": 0,
      "outputs": [
        {
          "output_type": "execute_result",
          "data": {
            "text/plain": [
              "array([[2., 3., 4.],\n",
              "       [5., 6., 7.]], dtype=float32)"
            ]
          },
          "metadata": {
            "tags": []
          },
          "execution_count": 9
        }
      ]
    },
    {
      "metadata": {
        "id": "Hf5e8jtSiXR2",
        "colab_type": "code",
        "colab": {}
      },
      "cell_type": "code",
      "source": [
        "# Define training and validation datasets with the same structure.\n",
        "training_dataset = tf.data.Dataset.range(100).map(\n",
        "    lambda x: x + tf.random_uniform([], -10, 10, tf.int64))\n",
        "validation_dataset = tf.data.Dataset.range(50)\n",
        "\n",
        "# A reinitializable iterator is defined by its structure. We could use the\n",
        "# `output_types` and `output_shapes` properties of either `training_dataset`\n",
        "# or `validation_dataset` here, because they are compatible.\n",
        "iterator = tf.data.Iterator.from_structure(training_dataset.output_types,\n",
        "                                           training_dataset.output_shapes)\n",
        "next_element = iterator.get_next()\n",
        "\n",
        "training_init_op = iterator.make_initializer(training_dataset)\n",
        "validation_init_op = iterator.make_initializer(validation_dataset)\n",
        "\n",
        "# Run 20 epochs in which the training dataset is traversed, followed by the\n",
        "# validation dataset.\n",
        "for _ in range(20):\n",
        "  # Initialize an iterator over the training dataset.\n",
        "  sess.run(training_init_op)\n",
        "  for _ in range(100):\n",
        "    sess.run(next_element)\n",
        "\n",
        "  # Initialize an iterator over the validation dataset.\n",
        "  sess.run(validation_init_op)\n",
        "  for _ in range(50):\n",
        "    sess.run(next_element)"
      ],
      "execution_count": 0,
      "outputs": []
    },
    {
      "metadata": {
        "id": "PjAaezr3iXVF",
        "colab_type": "code",
        "colab": {}
      },
      "cell_type": "code",
      "source": [
        "# Define training and validation datasets with the same structure.\n",
        "training_dataset = tf.data.Dataset.range(100).map(\n",
        "    lambda x: x + tf.random_uniform([], -10, 10, tf.int64))\n",
        "validation_dataset = tf.data.Dataset.range(50)\n"
      ],
      "execution_count": 0,
      "outputs": []
    },
    {
      "metadata": {
        "id": "vxnTy7rSiXYb",
        "colab_type": "code",
        "outputId": "ff832b59-0de5-43d5-f024-fbea53ac08f4",
        "colab": {
          "base_uri": "https://localhost:8080/",
          "height": 34
        }
      },
      "cell_type": "code",
      "source": [
        "training_dataset"
      ],
      "execution_count": 0,
      "outputs": [
        {
          "output_type": "execute_result",
          "data": {
            "text/plain": [
              "<MapDataset shapes: (), types: tf.int64>"
            ]
          },
          "metadata": {
            "tags": []
          },
          "execution_count": 12
        }
      ]
    },
    {
      "metadata": {
        "id": "O9dDaQ2miXbz",
        "colab_type": "code",
        "outputId": "71c7b916-2830-4c3b-d202-54305e737ed3",
        "colab": {
          "base_uri": "https://localhost:8080/",
          "height": 34
        }
      },
      "cell_type": "code",
      "source": [
        "validation_dataset"
      ],
      "execution_count": 0,
      "outputs": [
        {
          "output_type": "execute_result",
          "data": {
            "text/plain": [
              "<RangeDataset shapes: (), types: tf.int64>"
            ]
          },
          "metadata": {
            "tags": []
          },
          "execution_count": 13
        }
      ]
    },
    {
      "metadata": {
        "id": "G3Tx8OC4iXfR",
        "colab_type": "code",
        "colab": {}
      },
      "cell_type": "code",
      "source": [
        "iterator = tf.data.Iterator.from_structure(training_dataset.output_types,\n",
        "                                           training_dataset.output_shapes)"
      ],
      "execution_count": 0,
      "outputs": []
    },
    {
      "metadata": {
        "id": "ARvFB55XiXid",
        "colab_type": "code",
        "outputId": "30d2d4f5-980f-4389-aa52-0b0292a20cd5",
        "colab": {
          "base_uri": "https://localhost:8080/",
          "height": 34
        }
      },
      "cell_type": "code",
      "source": [
        "iterator"
      ],
      "execution_count": 0,
      "outputs": [
        {
          "output_type": "execute_result",
          "data": {
            "text/plain": [
              "<tensorflow.python.data.ops.iterator_ops.Iterator at 0x7fe72889f278>"
            ]
          },
          "metadata": {
            "tags": []
          },
          "execution_count": 15
        }
      ]
    },
    {
      "metadata": {
        "id": "fZtrgoH1iXmB",
        "colab_type": "code",
        "colab": {}
      },
      "cell_type": "code",
      "source": [
        "next_element = iterator.get_next()\n",
        "\n",
        "training_init_op = iterator.make_initializer(training_dataset)\n",
        "validation_init_op = iterator.make_initializer(validation_dataset)"
      ],
      "execution_count": 0,
      "outputs": []
    },
    {
      "metadata": {
        "id": "nvJyUVafiXrD",
        "colab_type": "code",
        "colab": {}
      },
      "cell_type": "code",
      "source": [
        "sess=tf.Session()\n",
        "for _ in range(20):\n",
        "  # Initialize an iterator over the training dataset.\n",
        "  sess.run(training_init_op)\n",
        "  for _ in range(100):\n",
        "    sess.run(next_element)"
      ],
      "execution_count": 0,
      "outputs": []
    },
    {
      "metadata": {
        "id": "VPbSg-ljiXuf",
        "colab_type": "code",
        "colab": {}
      },
      "cell_type": "code",
      "source": [
        "# Define training and validation datasets with the same structure.\n",
        "training_dataset = tf.data.Dataset.range(100).map(\n",
        "    lambda x: x + tf.random_uniform([], -10, 10, tf.int64)).repeat()\n",
        "validation_dataset = tf.data.Dataset.range(50)\n",
        "\n",
        "# A feedable iterator is defined by a handle placeholder and its structure. We\n",
        "# could use the `output_types` and `output_shapes` properties of either\n",
        "# `training_dataset` or `validation_dataset` here, because they have\n",
        "# identical structure.\n",
        "handle = tf.placeholder(tf.string, shape=[])\n",
        "iterator = tf.data.Iterator.from_string_handle(\n",
        "    handle, training_dataset.output_types, training_dataset.output_shapes)\n",
        "next_element = iterator.get_next()\n",
        "\n",
        "# You can use feedable iterators with a variety of different kinds of iterator\n",
        "# (such as one-shot and initializable iterators).\n",
        "training_iterator = training_dataset.make_one_shot_iterator()\n",
        "validation_iterator = validation_dataset.make_initializable_iterator()\n",
        "\n",
        "# The `Iterator.string_handle()` method returns a tensor that can be evaluated\n",
        "# and used to feed the `handle` placeholder.\n",
        "training_handle = sess.run(training_iterator.string_handle())\n",
        "validation_handle = sess.run(validation_iterator.string_handle())\n",
        "\n",
        "# Loop forever, alternating between training and validation.\n",
        "while True:\n",
        "  # Run 200 steps using the training dataset. Note that the training dataset is\n",
        "  # infinite, and we resume from where we left off in the previous `while` loop\n",
        "  # iteration.\n",
        "  for _ in range(200):\n",
        "    sess.run(next_element, feed_dict={handle: training_handle})\n",
        "\n",
        "  # Run one pass over the validation dataset.\n",
        "  sess.run(validation_iterator.initializer)\n",
        "  for _ in range(50):\n",
        "    sess.run(next_element, feed_dict={handle: validation_handle})"
      ],
      "execution_count": 0,
      "outputs": []
    },
    {
      "metadata": {
        "id": "tK-KM3CqiXxk",
        "colab_type": "code",
        "colab": {}
      },
      "cell_type": "code",
      "source": [
        "import tensorflow as tf\n",
        "import matplotlib.pyplot as plt\n",
        "a= tf.random_uniform([100,12], -10, 10, tf.int64)\n",
        "b= tf.random_uniform([100,12], -10, 10, tf.int64)\n",
        "pl"
      ],
      "execution_count": 0,
      "outputs": []
    },
    {
      "metadata": {
        "id": "tvOXz9OriXph",
        "colab_type": "code",
        "colab": {}
      },
      "cell_type": "code",
      "source": [
        "def my_py_func(x):\n",
        "  x = tf.matmul(x, x)  # You can use tf ops\n",
        "  print(x)  # but it's eager!\n",
        "  return x\n",
        "\n",
        "with tf.Session() as sess:\n",
        "  x = tf.placeholder(dtype=tf.float32)\n",
        "  # Call eager function in graph!\n",
        "  pf = tfe.py_func(my_py_func, [x], tf.float32)\n",
        "  \n",
        "  sess.run(pf, feed_dict={x: [[2.0]]})  # [[4.0]]"
      ],
      "execution_count": 0,
      "outputs": []
    },
    {
      "metadata": {
        "id": "OYNUuyUxPI8R",
        "colab_type": "code",
        "colab": {}
      },
      "cell_type": "code",
      "source": [
        ""
      ],
      "execution_count": 0,
      "outputs": []
    },
    {
      "metadata": {
        "id": "leonZlj_vS4o",
        "colab_type": "code",
        "colab": {}
      },
      "cell_type": "code",
      "source": [
        ""
      ],
      "execution_count": 0,
      "outputs": []
    },
    {
      "metadata": {
        "id": "3u551-abvS7-",
        "colab_type": "code",
        "colab": {}
      },
      "cell_type": "code",
      "source": [
        ""
      ],
      "execution_count": 0,
      "outputs": []
    },
    {
      "metadata": {
        "id": "q0gFDezZvTAo",
        "colab_type": "code",
        "colab": {}
      },
      "cell_type": "code",
      "source": [
        ""
      ],
      "execution_count": 0,
      "outputs": []
    },
    {
      "metadata": {
        "id": "lzbst1y9vTDz",
        "colab_type": "code",
        "colab": {}
      },
      "cell_type": "code",
      "source": [
        ""
      ],
      "execution_count": 0,
      "outputs": []
    },
    {
      "metadata": {
        "id": "-_sZ1G1CvTHC",
        "colab_type": "code",
        "colab": {}
      },
      "cell_type": "code",
      "source": [
        ""
      ],
      "execution_count": 0,
      "outputs": []
    },
    {
      "metadata": {
        "id": "1gTMM-PvvTKV",
        "colab_type": "code",
        "colab": {}
      },
      "cell_type": "code",
      "source": [
        ""
      ],
      "execution_count": 0,
      "outputs": []
    },
    {
      "metadata": {
        "id": "2IgKE4qwvTOW",
        "colab_type": "code",
        "colab": {}
      },
      "cell_type": "code",
      "source": [
        ""
      ],
      "execution_count": 0,
      "outputs": []
    },
    {
      "metadata": {
        "id": "GtC5Z_c5vS-0",
        "colab_type": "code",
        "colab": {}
      },
      "cell_type": "code",
      "source": [
        ""
      ],
      "execution_count": 0,
      "outputs": []
    }
  ]
}