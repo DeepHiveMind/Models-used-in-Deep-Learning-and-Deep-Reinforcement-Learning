{
  "nbformat": 4,
  "nbformat_minor": 0,
  "metadata": {
    "colab": {
      "name": "Kmeans Algorithm",
      "version": "0.3.2",
      "provenance": [],
      "include_colab_link": true
    },
    "kernelspec": {
      "name": "python3",
      "display_name": "Python 3"
    }
  },
  "cells": [
    {
      "cell_type": "markdown",
      "metadata": {
        "id": "view-in-github",
        "colab_type": "text"
      },
      "source": [
        "<a href=\"https://colab.research.google.com/github/DeepHiveMind/Models-used-in-Deep-Learning-and-Deep-Reinforcement-Learning/blob/master/Kmeans_Algorithm.ipynb\" target=\"_parent\"><img src=\"https://colab.research.google.com/assets/colab-badge.svg\" alt=\"Open In Colab\"/></a>"
      ]
    },
    {
      "metadata": {
        "id": "M5j3Bx3OWv4Z",
        "colab_type": "code",
        "colab": {}
      },
      "cell_type": "code",
      "source": [
        ""
      ],
      "execution_count": 0,
      "outputs": []
    },
    {
      "metadata": {
        "id": "cqDsbTewWw6Y",
        "colab_type": "code",
        "colab": {}
      },
      "cell_type": "code",
      "source": [
        ""
      ],
      "execution_count": 0,
      "outputs": []
    },
    {
      "metadata": {
        "id": "UfxtjnCwWw9h",
        "colab_type": "code",
        "colab": {}
      },
      "cell_type": "code",
      "source": [
        ""
      ],
      "execution_count": 0,
      "outputs": []
    },
    {
      "metadata": {
        "id": "VbG8Kj_VWxAj",
        "colab_type": "code",
        "colab": {}
      },
      "cell_type": "code",
      "source": [
        ""
      ],
      "execution_count": 0,
      "outputs": []
    },
    {
      "metadata": {
        "id": "-qQ6IusEWxED",
        "colab_type": "code",
        "colab": {}
      },
      "cell_type": "code",
      "source": [
        "import math; #For pow and sqrt\n",
        "import sys;\n",
        "from random import shuffle, uniform;\n",
        "\n",
        "###_Pre-Processing_###\n",
        "def ReadData(fileName):\n",
        "    #Read the file, splitting by lines\n",
        "    f = open(fileName,'r');\n",
        "    lines = f.read().splitlines();\n",
        "    f.close();\n",
        "\n",
        "    items = [];\n",
        "\n",
        "    for i in range(1,len(lines)):\n",
        "        line = lines[i].split(',');\n",
        "        itemFeatures = [];\n",
        "\n",
        "        for j in range(len(line)-1):\n",
        "            v = float(line[j]); #Convert feature value to float\n",
        "            itemFeatures.append(v); #Add feature value to dict\n",
        "    \n",
        "        items.append(itemFeatures);\n",
        "\n",
        "    shuffle(items);\n",
        "\n",
        "    return items;\n",
        "\n",
        "\n",
        "###_Auxiliary Function_###\n",
        "def FindColMinMax(items):\n",
        "    n = len(items[0]);\n",
        "    minima = [sys.maxint for i in range(n)];\n",
        "    maxima = [-sys.maxint -1 for i in range(n)];\n",
        "    \n",
        "    for item in items:\n",
        "        for f in range(len(item)):\n",
        "            if(item[f] < minima[f]):\n",
        "                minima[f] = item[f];\n",
        "            \n",
        "            if(item[f] > maxima[f]):\n",
        "                maxima[f] = item[f];\n",
        "\n",
        "    return minima,maxima;\n",
        "\n",
        "def EuclideanDistance(x,y):\n",
        "    S = 0; #The sum of the squared differences of the elements\n",
        "    for i in range(len(x)):\n",
        "        S += math.pow(x[i]-y[i],2);\n",
        "\n",
        "    return math.sqrt(S); #The square root of the sum\n",
        "\n",
        "def InitializeMeans(items,k,cMin,cMax):\n",
        "    #Initialize means to random numbers between\n",
        "    #the min and max of each column/feature\n",
        "    \n",
        "    f = len(items[0]); #number of features\n",
        "    means = [[0 for i in range(f)] for j in range(k)];\n",
        "    \n",
        "    for mean in means:\n",
        "        for i in range(len(mean)):\n",
        "            #Set value to a random float\n",
        "            #(adding +-1 to avoid a wide placement of a mean)\n",
        "            mean[i] = uniform(cMin[i]+1,cMax[i]-1);\n",
        "\n",
        "    return means;\n",
        "\n",
        "def UpdateMean(n,mean,item):\n",
        "    for i in range(len(mean)):\n",
        "        m = mean[i];\n",
        "        m = (m*(n-1)+item[i])/float(n);\n",
        "        mean[i] = round(m,3);\n",
        "    \n",
        "    return mean;\n",
        "\n",
        "def FindClusters(means,items):\n",
        "    clusters = [[] for i in range(len(means))]; #Init clusters\n",
        "    \n",
        "    for item in items:\n",
        "        #Classify item into a cluster\n",
        "        index = Classify(means,item);\n",
        "\n",
        "        #Add item to cluster\n",
        "        clusters[index].append(item);\n",
        "\n",
        "    return clusters;\n",
        "\n",
        "\n",
        "###_Core Functions_###\n",
        "def Classify(means,item):\n",
        "    #Classify item to the mean with minimum distance\n",
        "    \n",
        "    minimum = sys.maxint;\n",
        "    index = -1;\n",
        "\n",
        "    for i in range(len(means)):\n",
        "        #Find distance from item to mean\n",
        "        dis = EuclideanDistance(item,means[i]);\n",
        "\n",
        "        if(dis < minimum):\n",
        "            minimum = dis;\n",
        "            index = i;\n",
        "    \n",
        "    return index;\n",
        "\n",
        "def CalculateMeans(k,items,maxIterations=100000):\n",
        "    #Find the minima and maxima for columns\n",
        "    cMin, cMax = FindColMinMax(items);\n",
        "    \n",
        "    #Initialize means at random points\n",
        "    means = InitializeMeans(items,k,cMin,cMax);\n",
        "    \n",
        "    #Initialize clusters, the array to hold\n",
        "    #the number of items in a class\n",
        "    clusterSizes = [0 for i in range(len(means))];\n",
        "\n",
        "    #An array to hold the cluster an item is in\n",
        "    belongsTo = [0 for i in range(len(items))];\n",
        "\n",
        "    #Calculate means\n",
        "    for e in range(maxIterations):\n",
        "        #If no change of cluster occurs, halt\n",
        "        noChange = True;\n",
        "        for i in range(len(items)):\n",
        "            item = items[i];\n",
        "            #Classify item into a cluster and update the\n",
        "            #corresponding means.\n",
        "        \n",
        "            index = Classify(means,item);\n",
        "\n",
        "            clusterSizes[index] += 1;\n",
        "            means[index] = UpdateMean(clusterSizes[index],means[index],item);\n",
        "\n",
        "            #Item changed cluster\n",
        "            if(index != belongsTo[i]):\n",
        "                noChange = False;\n",
        "\n",
        "            belongsTo[i] = index;\n",
        "\n",
        "        #Nothing changed, return\n",
        "        if(noChange):\n",
        "            break;\n",
        "\n",
        "    return means;\n",
        "\n",
        "\n",
        "###_Main_###\n",
        "def main():\n",
        "    items = ReadData(r'https://raw.githubusercontent.com/MrDupin/Machine-Learning/master/Clustering/kMeans%20-%20Standard/data.txt');\n",
        "    \n",
        "    k = 3;\n",
        "\n",
        "    means = CalculateMeans(k,items);\n",
        "    clusters = FindClusters(means,items);\n",
        "    print (means);\n",
        "    print (clusters);\n",
        "\n",
        "    #newItem = [5.4,3.7,1.5,0.2];\n",
        "    #print Classify(means,newItem);\n",
        "\n",
        "if __name__ == \"__main__\":\n",
        "    main();"
      ],
      "execution_count": 0,
      "outputs": []
    },
    {
      "metadata": {
        "id": "Fc4lOhCzWxGe",
        "colab_type": "code",
        "colab": {}
      },
      "cell_type": "code",
      "source": [
        ""
      ],
      "execution_count": 0,
      "outputs": []
    },
    {
      "metadata": {
        "id": "ax1ILWINWxJb",
        "colab_type": "code",
        "colab": {}
      },
      "cell_type": "code",
      "source": [
        ""
      ],
      "execution_count": 0,
      "outputs": []
    },
    {
      "metadata": {
        "id": "jiyfBTa5WxMk",
        "colab_type": "code",
        "colab": {}
      },
      "cell_type": "code",
      "source": [
        ""
      ],
      "execution_count": 0,
      "outputs": []
    },
    {
      "metadata": {
        "id": "rptngBS6WxPe",
        "colab_type": "code",
        "colab": {}
      },
      "cell_type": "code",
      "source": [
        ""
      ],
      "execution_count": 0,
      "outputs": []
    },
    {
      "metadata": {
        "id": "JH1S_qx5WxS3",
        "colab_type": "code",
        "colab": {}
      },
      "cell_type": "code",
      "source": [
        ""
      ],
      "execution_count": 0,
      "outputs": []
    },
    {
      "metadata": {
        "id": "YO8nU0JcWxV3",
        "colab_type": "code",
        "colab": {}
      },
      "cell_type": "code",
      "source": [
        ""
      ],
      "execution_count": 0,
      "outputs": []
    }
  ]
}