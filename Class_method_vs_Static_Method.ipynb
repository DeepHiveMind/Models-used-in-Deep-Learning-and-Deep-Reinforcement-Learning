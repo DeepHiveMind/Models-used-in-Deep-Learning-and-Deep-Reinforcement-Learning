{
  "nbformat": 4,
  "nbformat_minor": 0,
  "metadata": {
    "colab": {
      "name": "Class method vs Static Method",
      "version": "0.3.2",
      "provenance": [],
      "include_colab_link": true
    },
    "kernelspec": {
      "name": "python3",
      "display_name": "Python 3"
    }
  },
  "cells": [
    {
      "cell_type": "markdown",
      "metadata": {
        "id": "view-in-github",
        "colab_type": "text"
      },
      "source": [
        "<a href=\"https://colab.research.google.com/github/DeepHiveMind/Models-used-in-Deep-Learning-and-Deep-Reinforcement-Learning/blob/master/Class_method_vs_Static_Method.ipynb\" target=\"_parent\"><img src=\"https://colab.research.google.com/assets/colab-badge.svg\" alt=\"Open In Colab\"/></a>"
      ]
    },
    {
      "metadata": {
        "id": "_dPItRa5Gukq",
        "colab_type": "code",
        "outputId": "074d4bff-2917-47b8-f2f7-50cbc957b274",
        "colab": {
          "base_uri": "https://localhost:8080/",
          "height": 68
        }
      },
      "cell_type": "code",
      "source": [
        "# use of class method and static method. \n",
        "from datetime import date \n",
        "  \n",
        "class Person: \n",
        "    def __init__(self, name, age): \n",
        "        self.name = name \n",
        "        self.age = age \n",
        "      \n",
        "    # a class method to create a Person object by birth year. \n",
        "    @classmethod\n",
        "    def fromBirthYear(cls, year): \n",
        "        return year\n",
        "      \n",
        "    # a static method to check if a Person is adult or not. \n",
        "    @staticmethod\n",
        "    def isAdult(name,year): \n",
        "        return date.today().year - year\n",
        "  \n",
        "person1 = Person('mayank', 21) \n",
        "person2 = Person.fromBirthYear(1996) \n",
        "  \n",
        "print (person1.age )\n",
        "print (person2)\n",
        "person3=Person.isAdult(\"dhrub\",1999)\n",
        "print (person3)\n",
        "  \n",
        "# print the result \n",
        "#print (Person.isAdult(1996)) "
      ],
      "execution_count": 0,
      "outputs": [
        {
          "output_type": "stream",
          "text": [
            "21\n",
            "1996\n",
            "19\n"
          ],
          "name": "stdout"
        }
      ]
    },
    {
      "metadata": {
        "id": "6f2Er0_Qq8iY",
        "colab_type": "code",
        "colab": {}
      },
      "cell_type": "code",
      "source": [
        ""
      ],
      "execution_count": 0,
      "outputs": []
    },
    {
      "metadata": {
        "id": "Fxmvz6YXF9jd",
        "colab_type": "code",
        "colab": {}
      },
      "cell_type": "code",
      "source": [
        ""
      ],
      "execution_count": 0,
      "outputs": []
    },
    {
      "metadata": {
        "id": "_MVQlyz2F9me",
        "colab_type": "code",
        "colab": {}
      },
      "cell_type": "code",
      "source": [
        ""
      ],
      "execution_count": 0,
      "outputs": []
    },
    {
      "metadata": {
        "id": "ikYvci6KF9qm",
        "colab_type": "code",
        "colab": {}
      },
      "cell_type": "code",
      "source": [
        ""
      ],
      "execution_count": 0,
      "outputs": []
    },
    {
      "metadata": {
        "id": "ng6ULEWmF9zS",
        "colab_type": "code",
        "colab": {}
      },
      "cell_type": "code",
      "source": [
        ""
      ],
      "execution_count": 0,
      "outputs": []
    },
    {
      "metadata": {
        "id": "c93mC_ioHh9t",
        "colab_type": "code",
        "outputId": "2c88c464-a481-4585-cca2-1136359844e1",
        "colab": {
          "base_uri": "https://localhost:8080/",
          "height": 232
        }
      },
      "cell_type": "code",
      "source": [
        "# use of class method and static method. \n",
        "from datetime import date \n",
        "  \n",
        "class Person: \n",
        "    def __init__(self, name, age): \n",
        "        self.name = name \n",
        "        self.age = age \n",
        "      \n",
        "    # a class method to create a Person object by birth year. \n",
        "    #@classmethod\n",
        "    def fromBirthYear(self,  year): \n",
        "         age = date.today().year - year\n",
        "         return age\n",
        "      \n",
        "    # a static method to check if a Person is adult or not. \n",
        "    @staticmethod\n",
        "    def isAdult(age): \n",
        "        return age > 18\n",
        "  \n",
        "person1 = Person('mayank', 21) \n",
        "person2 = Person.fromBirthYear(1996) \n",
        "print(person2)\n",
        "  \n",
        "print (person1.age) \n",
        "#print (person2.age) \n",
        "  \n",
        "# print the result \n",
        "#print Person.isAdult(22) Person.isadult"
      ],
      "execution_count": 0,
      "outputs": [
        {
          "output_type": "error",
          "ename": "TypeError",
          "evalue": "ignored",
          "traceback": [
            "\u001b[0;31m---------------------------------------------------------------------------\u001b[0m",
            "\u001b[0;31mTypeError\u001b[0m                                 Traceback (most recent call last)",
            "\u001b[0;32m<ipython-input-24-18857b5fb07d>\u001b[0m in \u001b[0;36m<module>\u001b[0;34m()\u001b[0m\n\u001b[1;32m     18\u001b[0m \u001b[0;34m\u001b[0m\u001b[0m\n\u001b[1;32m     19\u001b[0m \u001b[0mperson1\u001b[0m \u001b[0;34m=\u001b[0m \u001b[0mPerson\u001b[0m\u001b[0;34m(\u001b[0m\u001b[0;34m'mayank'\u001b[0m\u001b[0;34m,\u001b[0m \u001b[0;36m21\u001b[0m\u001b[0;34m)\u001b[0m\u001b[0;34m\u001b[0m\u001b[0;34m\u001b[0m\u001b[0m\n\u001b[0;32m---> 20\u001b[0;31m \u001b[0mperson2\u001b[0m \u001b[0;34m=\u001b[0m \u001b[0mPerson\u001b[0m\u001b[0;34m.\u001b[0m\u001b[0mfromBirthYear\u001b[0m\u001b[0;34m(\u001b[0m\u001b[0;36m1996\u001b[0m\u001b[0;34m)\u001b[0m\u001b[0;34m\u001b[0m\u001b[0;34m\u001b[0m\u001b[0m\n\u001b[0m\u001b[1;32m     21\u001b[0m \u001b[0mprint\u001b[0m\u001b[0;34m(\u001b[0m\u001b[0mperson2\u001b[0m\u001b[0;34m)\u001b[0m\u001b[0;34m\u001b[0m\u001b[0;34m\u001b[0m\u001b[0m\n\u001b[1;32m     22\u001b[0m \u001b[0;34m\u001b[0m\u001b[0m\n",
            "\u001b[0;31mTypeError\u001b[0m: fromBirthYear() missing 1 required positional argument: 'year'"
          ]
        }
      ]
    },
    {
      "metadata": {
        "id": "F776ZhoqHiMf",
        "colab_type": "code",
        "colab": {}
      },
      "cell_type": "code",
      "source": [
        "person1 = Person('mayank', 21) "
      ],
      "execution_count": 0,
      "outputs": []
    },
    {
      "metadata": {
        "id": "E--VVyfkHo9x",
        "colab_type": "code",
        "outputId": "f049d2ba-c1cc-432c-df82-825499600ca6",
        "colab": {
          "base_uri": "https://localhost:8080/",
          "height": 164
        }
      },
      "cell_type": "code",
      "source": [
        "person1.type"
      ],
      "execution_count": 0,
      "outputs": [
        {
          "output_type": "error",
          "ename": "AttributeError",
          "evalue": "ignored",
          "traceback": [
            "\u001b[0;31m---------------------------------------------------------------------------\u001b[0m",
            "\u001b[0;31mAttributeError\u001b[0m                            Traceback (most recent call last)",
            "\u001b[0;32m<ipython-input-7-d7befffea72c>\u001b[0m in \u001b[0;36m<module>\u001b[0;34m()\u001b[0m\n\u001b[0;32m----> 1\u001b[0;31m \u001b[0mperson1\u001b[0m\u001b[0;34m.\u001b[0m\u001b[0mtype\u001b[0m\u001b[0;34m\u001b[0m\u001b[0;34m\u001b[0m\u001b[0m\n\u001b[0m",
            "\u001b[0;31mAttributeError\u001b[0m: 'Person' object has no attribute 'type'"
          ]
        }
      ]
    },
    {
      "metadata": {
        "id": "zS1pQAKWGAzX",
        "colab_type": "code",
        "outputId": "915fb193-beb9-4512-ec81-3ba74410252f",
        "colab": {
          "base_uri": "https://localhost:8080/",
          "height": 232
        }
      },
      "cell_type": "code",
      "source": [
        "def hello_decorator(func): \n",
        "    def inner1(): \n",
        "          \n",
        "        print(\"before Execution\") \n",
        "          \n",
        "        # getting the returned value \n",
        "        returned_value = func() \n",
        "        print(\"after Execution\") \n",
        "          \n",
        "        # returning the value to the original frame \n",
        "        return returned_value \n",
        "          \n",
        "    return inner1 \n",
        "  \n",
        "  \n",
        "# adding decorator to the function \n",
        "@hello_decorator\n",
        "def sum_two_numbers(a, b): \n",
        "    print(\"Inside the function\") \n",
        "    return a + b \n",
        "  \n",
        "a, b = 1, 2\n",
        "  \n",
        "# getting the value through return of the function \n",
        "print(\"Sum =\", sum_two_numbers(a, b)) \n"
      ],
      "execution_count": 0,
      "outputs": [
        {
          "output_type": "error",
          "ename": "TypeError",
          "evalue": "ignored",
          "traceback": [
            "\u001b[0;31m---------------------------------------------------------------------------\u001b[0m",
            "\u001b[0;31mTypeError\u001b[0m                                 Traceback (most recent call last)",
            "\u001b[0;32m<ipython-input-3-945668ab1a88>\u001b[0m in \u001b[0;36m<module>\u001b[0;34m()\u001b[0m\n\u001b[1;32m     15\u001b[0m \u001b[0;34m\u001b[0m\u001b[0m\n\u001b[1;32m     16\u001b[0m \u001b[0;31m# adding decorator to the function\u001b[0m\u001b[0;34m\u001b[0m\u001b[0;34m\u001b[0m\u001b[0;34m\u001b[0m\u001b[0m\n\u001b[0;32m---> 17\u001b[0;31m \u001b[0;34m@\u001b[0m\u001b[0mhello_decorator\u001b[0m\u001b[0;34m\u001b[0m\u001b[0;34m\u001b[0m\u001b[0m\n\u001b[0m\u001b[1;32m     18\u001b[0m \u001b[0;32mdef\u001b[0m \u001b[0msum_two_numbers\u001b[0m\u001b[0;34m(\u001b[0m\u001b[0ma\u001b[0m\u001b[0;34m,\u001b[0m \u001b[0mb\u001b[0m\u001b[0;34m)\u001b[0m\u001b[0;34m:\u001b[0m\u001b[0;34m\u001b[0m\u001b[0;34m\u001b[0m\u001b[0m\n\u001b[1;32m     19\u001b[0m     \u001b[0mprint\u001b[0m\u001b[0;34m(\u001b[0m\u001b[0;34m\"Inside the function\"\u001b[0m\u001b[0;34m)\u001b[0m\u001b[0;34m\u001b[0m\u001b[0;34m\u001b[0m\u001b[0m\n",
            "\u001b[0;31mTypeError\u001b[0m: hello_decorator() takes 0 positional arguments but 1 was given"
          ]
        }
      ]
    },
    {
      "metadata": {
        "id": "KXhbPwBmGA4d",
        "colab_type": "code",
        "outputId": "f58238c7-a893-48c0-82de-d88722eed2e1",
        "colab": {
          "base_uri": "https://localhost:8080/",
          "height": 198
        }
      },
      "cell_type": "code",
      "source": [
        "\n",
        "# defining a decorator \n",
        "def hello_decorator(func): \n",
        "  \n",
        "    # inner1 is a Wrapper function in  \n",
        "    # which the argument is called \n",
        "      \n",
        "    # inner function can access the outer local \n",
        "    # functions like in this case \"func\" \n",
        "    def inner1(): \n",
        "        print(\"Hello, this is before function execution\") \n",
        "  \n",
        "        # calling the actual function now \n",
        "        # inside the wrapper function. \n",
        "        func() \n",
        "  \n",
        "        print(\"This is after function execution\") \n",
        "          \n",
        "    return inner1 \n",
        "  \n",
        "  \n",
        "# defining a function, to be called inside wrapper \n",
        "def function_to_be_used(): \n",
        "    print(\"This is inside the function !!\") \n",
        "  \n",
        "  \n",
        "# passing 'function_to_be_used' inside the \n",
        "# decorator to control its behavior \n",
        "function_to_be_used = hello_decorator(function_to_be_used) \n",
        "  \n",
        "  \n",
        "# calling the function \n",
        "function_to_be_used() "
      ],
      "execution_count": 0,
      "outputs": [
        {
          "output_type": "error",
          "ename": "TypeError",
          "evalue": "ignored",
          "traceback": [
            "\u001b[0;31m---------------------------------------------------------------------------\u001b[0m",
            "\u001b[0;31mTypeError\u001b[0m                                 Traceback (most recent call last)",
            "\u001b[0;32m<ipython-input-10-8d81b91c0dbe>\u001b[0m in \u001b[0;36m<module>\u001b[0;34m()\u001b[0m\n\u001b[1;32m     28\u001b[0m \u001b[0;34m\u001b[0m\u001b[0m\n\u001b[1;32m     29\u001b[0m \u001b[0;31m# calling the function\u001b[0m\u001b[0;34m\u001b[0m\u001b[0;34m\u001b[0m\u001b[0;34m\u001b[0m\u001b[0m\n\u001b[0;32m---> 30\u001b[0;31m \u001b[0mfunction_to_be_used\u001b[0m\u001b[0;34m(\u001b[0m\u001b[0;34m)\u001b[0m\u001b[0;34m\u001b[0m\u001b[0;34m\u001b[0m\u001b[0m\n\u001b[0m",
            "\u001b[0;31mTypeError\u001b[0m: 'str' object is not callable"
          ]
        }
      ]
    },
    {
      "metadata": {
        "id": "S7CniJwzGBAp",
        "colab_type": "code",
        "outputId": "06b9a16d-e53d-4ec1-9ab5-c6886c675ea7",
        "colab": {
          "base_uri": "https://localhost:8080/",
          "height": 51
        }
      },
      "cell_type": "code",
      "source": [
        "# importing libraries \n",
        "import time \n",
        "import math \n",
        "\n",
        "# decorator to calculate duration \n",
        "# taken by any function. \n",
        "def calculate_time(func): \n",
        "\t\n",
        "\t# added arguments inside the inner1, \n",
        "\t# if function takes any arguments, \n",
        "\t# can be added like this. \n",
        "\tdef inner1(a): \n",
        "\n",
        "\t\t# storing time before function execution \n",
        "\t\tbegin = time.time() \n",
        "\t\t\n",
        "\t\tfunc(a) \n",
        "\n",
        "\t\t# storing time after function execution \n",
        "\t\tend = time.time() \n",
        "\t\tprint(\"Total time taken in : \", func.__name__, end - begin) \n",
        "\n",
        "\treturn inner1 \n",
        "\n",
        "\n",
        "\n",
        "# this can be added to any function present, \n",
        "# in this case to calculate a factorial \n",
        "@calculate_time\n",
        "def factorial(a): \n",
        "\n",
        "\t# sleep 2 seconds because it takes very less time \n",
        "\t# so that you can see the actual difference \n",
        "\ttime.sleep(2) \n",
        "\tprint(math.factorial(5) )\n",
        "\n",
        "# calling the function. \n",
        "factorial(6) \n"
      ],
      "execution_count": 0,
      "outputs": [
        {
          "output_type": "stream",
          "text": [
            "120\n",
            "Total time taken in :  factorial 2.0023281574249268\n"
          ],
          "name": "stdout"
        }
      ]
    },
    {
      "metadata": {
        "id": "3GENNwlBGBDP",
        "colab_type": "code",
        "colab": {}
      },
      "cell_type": "code",
      "source": [
        "!pip install -q gTTS"
      ],
      "execution_count": 0,
      "outputs": []
    },
    {
      "metadata": {
        "id": "e2HGk8p_GBGh",
        "colab_type": "code",
        "outputId": "f0f4f1c0-44e3-4648-9c0a-afc8edeffd75",
        "colab": {
          "base_uri": "https://localhost:8080/",
          "height": 34
        }
      },
      "cell_type": "code",
      "source": [
        "# Import the required module for text \n",
        "# to speech conversion \n",
        "from gtts import gTTS \n",
        "\n",
        "# This module is imported so that we can \n",
        "# play the converted audio \n",
        "import os \n",
        "\n",
        "# The text that you want to convert to audio \n",
        "mytext = 'Welcome to geeksforgeeks!'\n",
        "\n",
        "# Language in which you want to convert \n",
        "language = 'en'\n",
        "\n",
        "# Passing the text and language to the engine, \n",
        "# here we have marked slow=False. Which tells \n",
        "# the module that the converted audio should \n",
        "# have a high speed \n",
        "myobj = gTTS(text=mytext, lang=language, slow=False) \n",
        "\n",
        "# Saving the converted audio in a mp3 file named \n",
        "# welcome \n",
        "myobj.save(\"welcome.mp3\") \n",
        "\n",
        "# Playing the converted file \n",
        "os.system(\"mpg123 welcome.mp3\") \n"
      ],
      "execution_count": 0,
      "outputs": [
        {
          "output_type": "execute_result",
          "data": {
            "text/plain": [
              "32512"
            ]
          },
          "metadata": {
            "tags": []
          },
          "execution_count": 36
        }
      ]
    },
    {
      "metadata": {
        "id": "-U5Gatc3GBJ5",
        "colab_type": "code",
        "colab": {}
      },
      "cell_type": "code",
      "source": [
        "import tensorflow as tf\n",
        "dataset1 = tf.data.Dataset.from_tensor_slices(tf.random_uniform([554]))"
      ],
      "execution_count": 0,
      "outputs": []
    },
    {
      "metadata": {
        "id": "5K8LLju30Ueo",
        "colab_type": "code",
        "outputId": "b74dcfc2-77e7-40ce-bd2f-f5b5e7cab008",
        "colab": {
          "base_uri": "https://localhost:8080/",
          "height": 34
        }
      },
      "cell_type": "code",
      "source": [
        "dataset1"
      ],
      "execution_count": 0,
      "outputs": [
        {
          "output_type": "execute_result",
          "data": {
            "text/plain": [
              "<TensorSliceDataset shapes: (), types: tf.float32>"
            ]
          },
          "metadata": {
            "tags": []
          },
          "execution_count": 58
        }
      ]
    },
    {
      "metadata": {
        "id": "Smy_Zz2aGBNA",
        "colab_type": "code",
        "outputId": "e1bb7e42-34b9-4516-b8ac-f57ea4e57f42",
        "colab": {
          "base_uri": "https://localhost:8080/",
          "height": 34
        }
      },
      "cell_type": "code",
      "source": [
        "tf.random_uniform([4, 105])"
      ],
      "execution_count": 0,
      "outputs": [
        {
          "output_type": "execute_result",
          "data": {
            "text/plain": [
              "<tf.Tensor 'random_uniform_2:0' shape=(4, 105) dtype=float32>"
            ]
          },
          "metadata": {
            "tags": []
          },
          "execution_count": 42
        }
      ]
    },
    {
      "metadata": {
        "id": "IuzM0I_wGBQI",
        "colab_type": "code",
        "outputId": "65467bc4-05db-44fa-b2e5-3e8d58b43225",
        "colab": {
          "base_uri": "https://localhost:8080/",
          "height": 51
        }
      },
      "cell_type": "code",
      "source": [
        "print(dataset1.output_types)  # ==> \"tf.float32\"\n",
        "print(dataset1.output_shapes)  # ==> \"(10,)\""
      ],
      "execution_count": 0,
      "outputs": [
        {
          "output_type": "stream",
          "text": [
            "<dtype: 'float32'>\n",
            "(105,)\n"
          ],
          "name": "stdout"
        }
      ]
    },
    {
      "metadata": {
        "id": "c8XmOQWHGBTR",
        "colab_type": "code",
        "outputId": "8c1bc1fb-8f80-416f-98df-793881ba6e1e",
        "colab": {
          "base_uri": "https://localhost:8080/",
          "height": 51
        }
      },
      "cell_type": "code",
      "source": [
        "dataset2 = tf.data.Dataset.from_tensor_slices(\n",
        "   (tf.random_uniform([4,65]),\n",
        "    tf.random_uniform([4, 1000])))\n",
        "print(dataset2.output_types)  # ==> \"(tf.float32, tf.int32)\"\n",
        "print(dataset2.output_shapes)  # ==> \"((), (100,))\" "
      ],
      "execution_count": 0,
      "outputs": [
        {
          "output_type": "stream",
          "text": [
            "(tf.float32, tf.float32)\n",
            "(TensorShape([Dimension(65)]), TensorShape([Dimension(1000)]))\n"
          ],
          "name": "stdout"
        }
      ]
    },
    {
      "metadata": {
        "id": "qm_EYby7GBW4",
        "colab_type": "code",
        "outputId": "ed657cbb-fde5-4ae9-b5d3-7621b72f1288",
        "colab": {
          "base_uri": "https://localhost:8080/",
          "height": 215
        }
      },
      "cell_type": "code",
      "source": [
        "dataset = tf.data.Dataset.collections.namedtuple(\n",
        "   tf.random_uniform([4]),tf.random_uniform([4, 100], maxval=100, dtype=tf.int32))\n",
        "print(dataset.output_types)  # ==> \"{'a': tf.float32, 'b': tf.int32}\"\n",
        "print(dataset.output_shapes)  # ==> \"{'a': (), 'b': (100,)}\""
      ],
      "execution_count": 0,
      "outputs": [
        {
          "output_type": "error",
          "ename": "AttributeError",
          "evalue": "ignored",
          "traceback": [
            "\u001b[0;31m---------------------------------------------------------------------------\u001b[0m",
            "\u001b[0;31mAttributeError\u001b[0m                            Traceback (most recent call last)",
            "\u001b[0;32m<ipython-input-62-ba874b290367>\u001b[0m in \u001b[0;36m<module>\u001b[0;34m()\u001b[0m\n\u001b[0;32m----> 1\u001b[0;31m dataset = tf.data.Dataset.collections.namedtuple(\n\u001b[0m\u001b[1;32m      2\u001b[0m    tf.random_uniform([4]),tf.random_uniform([4, 100], maxval=100, dtype=tf.int32))\n\u001b[1;32m      3\u001b[0m \u001b[0mprint\u001b[0m\u001b[0;34m(\u001b[0m\u001b[0mdataset\u001b[0m\u001b[0;34m.\u001b[0m\u001b[0moutput_types\u001b[0m\u001b[0;34m)\u001b[0m  \u001b[0;31m# ==> \"{'a': tf.float32, 'b': tf.int32}\"\u001b[0m\u001b[0;34m\u001b[0m\u001b[0;34m\u001b[0m\u001b[0m\n\u001b[1;32m      4\u001b[0m \u001b[0mprint\u001b[0m\u001b[0;34m(\u001b[0m\u001b[0mdataset\u001b[0m\u001b[0;34m.\u001b[0m\u001b[0moutput_shapes\u001b[0m\u001b[0;34m)\u001b[0m  \u001b[0;31m# ==> \"{'a': (), 'b': (100,)}\"\u001b[0m\u001b[0;34m\u001b[0m\u001b[0;34m\u001b[0m\u001b[0m\n",
            "\u001b[0;31mAttributeError\u001b[0m: type object 'Dataset' has no attribute 'collections'"
          ]
        }
      ]
    },
    {
      "metadata": {
        "id": "QN_okbJjGBc4",
        "colab_type": "code",
        "outputId": "a83963dc-d918-49f2-eb0c-7dc1674475a6",
        "colab": {
          "base_uri": "https://localhost:8080/",
          "height": 232
        }
      },
      "cell_type": "code",
      "source": [
        "# Python code to demonstrate namedtuple() and \n",
        "# Access by name, index and getattr() \n",
        "  \n",
        "# importing \"collections\" for namedtuple() \n",
        "import collections \n",
        "  \n",
        "# Declaring namedtuple() \n",
        "g = collections.namedtuple('g',['name','age','DOB']) \n",
        "  \n",
        "# Adding values \n",
        "S = g('Nandini','19','2541997') \n",
        "  \n",
        "# Access using index \n",
        "print (\"The Student age using index is : \" )\n",
        "print (S[1]) \n",
        "  \n",
        "# Access using name  \n",
        "print (\"The Student name using keyname is : \",end =\"\") \n",
        "print (S.name) \n",
        "  \n",
        "# Access using getattr() \n",
        "print (\"The Student DOB using getattr() is : \",end =\"\") \n",
        "print (getattr(S,'DOB')) "
      ],
      "execution_count": 0,
      "outputs": [
        {
          "output_type": "error",
          "ename": "NameError",
          "evalue": "ignored",
          "traceback": [
            "\u001b[0;31m---------------------------------------------------------------------------\u001b[0m",
            "\u001b[0;31mNameError\u001b[0m                                 Traceback (most recent call last)",
            "\u001b[0;32m<ipython-input-68-badd6cc359e3>\u001b[0m in \u001b[0;36m<module>\u001b[0;34m()\u001b[0m\n\u001b[1;32m      5\u001b[0m \u001b[0;34m\u001b[0m\u001b[0m\n\u001b[1;32m      6\u001b[0m \u001b[0;31m# Adding values\u001b[0m\u001b[0;34m\u001b[0m\u001b[0;34m\u001b[0m\u001b[0;34m\u001b[0m\u001b[0m\n\u001b[0;32m----> 7\u001b[0;31m \u001b[0mS\u001b[0m \u001b[0;34m=\u001b[0m \u001b[0mg\u001b[0m\u001b[0;34m(\u001b[0m\u001b[0;34m'Nandini'\u001b[0m\u001b[0;34m,\u001b[0m\u001b[0;34m'19'\u001b[0m\u001b[0;34m,\u001b[0m\u001b[0;34m'2541997'\u001b[0m\u001b[0;34m)\u001b[0m\u001b[0;34m\u001b[0m\u001b[0;34m\u001b[0m\u001b[0m\n\u001b[0m\u001b[1;32m      8\u001b[0m \u001b[0;34m\u001b[0m\u001b[0m\n\u001b[1;32m      9\u001b[0m \u001b[0;31m# Access using index\u001b[0m\u001b[0;34m\u001b[0m\u001b[0;34m\u001b[0m\u001b[0;34m\u001b[0m\u001b[0m\n",
            "\u001b[0;31mNameError\u001b[0m: name 'g' is not defined"
          ]
        }
      ]
    },
    {
      "metadata": {
        "id": "tOCXlnvWHkfF",
        "colab_type": "code",
        "colab": {}
      },
      "cell_type": "code",
      "source": [
        "dataset = tf.data.Dataset.range(100)\n"
      ],
      "execution_count": 0,
      "outputs": []
    },
    {
      "metadata": {
        "id": "aFWhJmdRHkib",
        "colab_type": "code",
        "outputId": "c5f008aa-5835-48e2-85f8-6e5f24bb7fb6",
        "colab": {
          "base_uri": "https://localhost:8080/",
          "height": 34
        }
      },
      "cell_type": "code",
      "source": [
        "iterator = dataset.make_one_shot_iterator()\n"
      ],
      "execution_count": 0,
      "outputs": [
        {
          "output_type": "execute_result",
          "data": {
            "text/plain": [
              "<RangeDataset shapes: (), types: tf.int64>"
            ]
          },
          "metadata": {
            "tags": []
          },
          "execution_count": 71
        }
      ]
    },
    {
      "metadata": {
        "id": "nx354PfNHkmo",
        "colab_type": "code",
        "colab": {}
      },
      "cell_type": "code",
      "source": [
        "iterator = dataset.make_one_shot_iterator()"
      ],
      "execution_count": 0,
      "outputs": []
    },
    {
      "metadata": {
        "id": "Q5pqj-V1JWPu",
        "colab_type": "code",
        "outputId": "06f691b5-a32e-4a50-aae6-efe4e6463604",
        "colab": {
          "base_uri": "https://localhost:8080/",
          "height": 34
        }
      },
      "cell_type": "code",
      "source": [
        "iterator"
      ],
      "execution_count": 0,
      "outputs": [
        {
          "output_type": "execute_result",
          "data": {
            "text/plain": [
              "<tensorflow.python.data.ops.iterator_ops.Iterator at 0x7fd5d9fa9400>"
            ]
          },
          "metadata": {
            "tags": []
          },
          "execution_count": 73
        }
      ]
    },
    {
      "metadata": {
        "id": "iCoptlimJWa4",
        "colab_type": "code",
        "colab": {}
      },
      "cell_type": "code",
      "source": [
        "next_element = iterator.get_next()"
      ],
      "execution_count": 0,
      "outputs": []
    },
    {
      "metadata": {
        "id": "69Uub8MHJWeU",
        "colab_type": "code",
        "outputId": "1bb97061-a6bd-488a-e508-1786f8fe4d97",
        "colab": {
          "base_uri": "https://localhost:8080/",
          "height": 34
        }
      },
      "cell_type": "code",
      "source": [
        "next_element "
      ],
      "execution_count": 0,
      "outputs": [
        {
          "output_type": "execute_result",
          "data": {
            "text/plain": [
              "<tf.Tensor 'IteratorGetNext_1:0' shape=() dtype=int64>"
            ]
          },
          "metadata": {
            "tags": []
          },
          "execution_count": 76
        }
      ]
    },
    {
      "metadata": {
        "id": "PeoaV4P2JWhr",
        "colab_type": "code",
        "outputId": "c5ab88c8-9f88-4c5d-a0f6-accf68168a30",
        "colab": {
          "base_uri": "https://localhost:8080/",
          "height": 198
        }
      },
      "cell_type": "code",
      "source": [
        "with session as sess:\n",
        "  for i in range(100):\n",
        "      value = sess.run(next_element)"
      ],
      "execution_count": 0,
      "outputs": [
        {
          "output_type": "error",
          "ename": "NameError",
          "evalue": "ignored",
          "traceback": [
            "\u001b[0;31m---------------------------------------------------------------------------\u001b[0m",
            "\u001b[0;31mNameError\u001b[0m                                 Traceback (most recent call last)",
            "\u001b[0;32m<ipython-input-1-38bb005d9f01>\u001b[0m in \u001b[0;36m<module>\u001b[0;34m()\u001b[0m\n\u001b[0;32m----> 1\u001b[0;31m \u001b[0;32mwith\u001b[0m \u001b[0msession\u001b[0m \u001b[0;32mas\u001b[0m \u001b[0msess\u001b[0m\u001b[0;34m:\u001b[0m\u001b[0;34m\u001b[0m\u001b[0;34m\u001b[0m\u001b[0m\n\u001b[0m\u001b[1;32m      2\u001b[0m   \u001b[0;32mfor\u001b[0m \u001b[0mi\u001b[0m \u001b[0;32min\u001b[0m \u001b[0mrange\u001b[0m\u001b[0;34m(\u001b[0m\u001b[0;36m100\u001b[0m\u001b[0;34m)\u001b[0m\u001b[0;34m:\u001b[0m\u001b[0;34m\u001b[0m\u001b[0;34m\u001b[0m\u001b[0m\n\u001b[1;32m      3\u001b[0m       \u001b[0mvalue\u001b[0m \u001b[0;34m=\u001b[0m \u001b[0msess\u001b[0m\u001b[0;34m.\u001b[0m\u001b[0mrun\u001b[0m\u001b[0;34m(\u001b[0m\u001b[0mnext_element\u001b[0m\u001b[0;34m)\u001b[0m\u001b[0;34m\u001b[0m\u001b[0;34m\u001b[0m\u001b[0m\n",
            "\u001b[0;31mNameError\u001b[0m: name 'session' is not defined"
          ]
        }
      ]
    },
    {
      "metadata": {
        "id": "1U07CVDbJWk_",
        "colab_type": "code",
        "colab": {}
      },
      "cell_type": "code",
      "source": [
        "import tensorflow as tf\n",
        "sess = tf.Session()"
      ],
      "execution_count": 0,
      "outputs": []
    },
    {
      "metadata": {
        "id": "u2vcm11bJWob",
        "colab_type": "code",
        "colab": {}
      },
      "cell_type": "code",
      "source": [
        "dataset = tf.data.Dataset.range(100)\n",
        "iterator = dataset.make_one_shot_iterator()\n",
        "next_element = iterator.get_next()\n",
        "second_element=next_element.get_next()\n",
        "\n",
        "for i in range(50):\n",
        "  value = sess.run(next_element)\n",
        "  assert i == value"
      ],
      "execution_count": 0,
      "outputs": []
    },
    {
      "metadata": {
        "id": "Q0sdGGi3JWrf",
        "colab_type": "code",
        "outputId": "7666998e-49b8-437c-99b3-0ce2f2bdb2ed",
        "colab": {
          "base_uri": "https://localhost:8080/",
          "height": 34
        }
      },
      "cell_type": "code",
      "source": [
        "value"
      ],
      "execution_count": 0,
      "outputs": [
        {
          "output_type": "execute_result",
          "data": {
            "text/plain": [
              "49"
            ]
          },
          "metadata": {
            "tags": []
          },
          "execution_count": 9
        }
      ]
    },
    {
      "metadata": {
        "id": "Q0nbOjrmJWxL",
        "colab_type": "code",
        "colab": {}
      },
      "cell_type": "code",
      "source": [
        "max_value = tf.placeholder(tf.int64, shape=[])\n",
        "dataset = tf.data.Dataset.range(max_value)"
      ],
      "execution_count": 0,
      "outputs": []
    },
    {
      "metadata": {
        "id": "uMYN043EJW0H",
        "colab_type": "code",
        "outputId": "f1a865ab-344f-4cbd-a4a9-5d7e212f98ea",
        "colab": {
          "base_uri": "https://localhost:8080/",
          "height": 34
        }
      },
      "cell_type": "code",
      "source": [
        "max_value"
      ],
      "execution_count": 0,
      "outputs": [
        {
          "output_type": "execute_result",
          "data": {
            "text/plain": [
              "<tf.Tensor 'Placeholder:0' shape=() dtype=int64>"
            ]
          },
          "metadata": {
            "tags": []
          },
          "execution_count": 14
        }
      ]
    },
    {
      "metadata": {
        "id": "ejfNEeKSpAyP",
        "colab_type": "code",
        "outputId": "fc50f7dd-5ee9-4948-da83-27924be63e2f",
        "colab": {
          "base_uri": "https://localhost:8080/",
          "height": 34
        }
      },
      "cell_type": "code",
      "source": [
        "iterator"
      ],
      "execution_count": 0,
      "outputs": [
        {
          "output_type": "execute_result",
          "data": {
            "text/plain": [
              "<tensorflow.python.data.ops.iterator_ops.Iterator at 0x7f35552c7cc0>"
            ]
          },
          "metadata": {
            "tags": []
          },
          "execution_count": 15
        }
      ]
    },
    {
      "metadata": {
        "id": "o9L5NhyApA7E",
        "colab_type": "code",
        "outputId": "b952cbac-fd45-46ab-afe0-85f5a8ae270b",
        "colab": {
          "base_uri": "https://localhost:8080/",
          "height": 34
        }
      },
      "cell_type": "code",
      "source": [
        "dataset"
      ],
      "execution_count": 0,
      "outputs": [
        {
          "output_type": "execute_result",
          "data": {
            "text/plain": [
              "<RangeDataset shapes: (), types: tf.int64>"
            ]
          },
          "metadata": {
            "tags": []
          },
          "execution_count": 17
        }
      ]
    },
    {
      "metadata": {
        "id": "1a9adkOPpA-h",
        "colab_type": "code",
        "colab": {}
      },
      "cell_type": "code",
      "source": [
        "max_value = tf.placeholder(tf.int64, shape=[])\n",
        "dataset = tf.data.Dataset.range(max_value)\n",
        "iterator = dataset.make_initializable_iterator()\n",
        "next_element = iterator.get_next()"
      ],
      "execution_count": 0,
      "outputs": []
    },
    {
      "metadata": {
        "id": "NQuwLd5VpBHS",
        "colab_type": "code",
        "outputId": "23349b9f-542f-41b8-cd1d-606b84ef78cd",
        "colab": {
          "base_uri": "https://localhost:8080/",
          "height": 198
        }
      },
      "cell_type": "code",
      "source": [
        "# Initialize an iterator over a dataset with 10 elements.\n",
        "sess.run(iterator.initializer, feed_dict={max_value: 103})\n",
        "for i in range(100):\n",
        "  value = next_element\n",
        "  assert i == value"
      ],
      "execution_count": 0,
      "outputs": [
        {
          "output_type": "error",
          "ename": "AssertionError",
          "evalue": "ignored",
          "traceback": [
            "\u001b[0;31m---------------------------------------------------------------------------\u001b[0m",
            "\u001b[0;31mAssertionError\u001b[0m                            Traceback (most recent call last)",
            "\u001b[0;32m<ipython-input-30-be93d60cc308>\u001b[0m in \u001b[0;36m<module>\u001b[0;34m()\u001b[0m\n\u001b[1;32m      2\u001b[0m \u001b[0;32mfor\u001b[0m \u001b[0mi\u001b[0m \u001b[0;32min\u001b[0m \u001b[0mrange\u001b[0m\u001b[0;34m(\u001b[0m\u001b[0;36m100\u001b[0m\u001b[0;34m)\u001b[0m\u001b[0;34m:\u001b[0m\u001b[0;34m\u001b[0m\u001b[0;34m\u001b[0m\u001b[0m\n\u001b[1;32m      3\u001b[0m   \u001b[0mvalue\u001b[0m \u001b[0;34m=\u001b[0m \u001b[0mnext_element\u001b[0m\u001b[0;34m\u001b[0m\u001b[0;34m\u001b[0m\u001b[0m\n\u001b[0;32m----> 4\u001b[0;31m   \u001b[0;32massert\u001b[0m \u001b[0mi\u001b[0m \u001b[0;34m==\u001b[0m \u001b[0mvalue\u001b[0m\u001b[0;34m\u001b[0m\u001b[0;34m\u001b[0m\u001b[0m\n\u001b[0m",
            "\u001b[0;31mAssertionError\u001b[0m: "
          ]
        }
      ]
    },
    {
      "metadata": {
        "id": "-Bgg3iJPrZ_W",
        "colab_type": "code",
        "outputId": "c9d95b94-8b16-47f1-8e4f-55451fef8cc3",
        "colab": {
          "base_uri": "https://localhost:8080/",
          "height": 34
        }
      },
      "cell_type": "code",
      "source": [
        "value"
      ],
      "execution_count": 0,
      "outputs": [
        {
          "output_type": "execute_result",
          "data": {
            "text/plain": [
              "99"
            ]
          },
          "metadata": {
            "tags": []
          },
          "execution_count": 29
        }
      ]
    },
    {
      "metadata": {
        "id": "JnSP_2e5raDF",
        "colab_type": "code",
        "outputId": "b968969d-c054-4056-bfb4-a40519308531",
        "colab": {
          "base_uri": "https://localhost:8080/",
          "height": 34
        }
      },
      "cell_type": "code",
      "source": [
        "len('geek')"
      ],
      "execution_count": 0,
      "outputs": [
        {
          "output_type": "execute_result",
          "data": {
            "text/plain": [
              "4"
            ]
          },
          "metadata": {
            "tags": []
          },
          "execution_count": 33
        }
      ]
    },
    {
      "metadata": {
        "id": "iJVFRlatraJL",
        "colab_type": "code",
        "colab": {}
      },
      "cell_type": "code",
      "source": [
        "txt = \"GEEKS FOR GEEKS\"\n",
        "pat = \"GEEK\"\n",
        "q = 101 # A prime number "
      ],
      "execution_count": 0,
      "outputs": []
    },
    {
      "metadata": {
        "id": "LiRT4y-5raO1",
        "colab_type": "code",
        "colab": {}
      },
      "cell_type": "code",
      "source": [
        "M = len(pat) \n",
        "N = len(txt)\n",
        "d = 256"
      ],
      "execution_count": 0,
      "outputs": []
    },
    {
      "metadata": {
        "id": "nXJ0UyqFraUi",
        "colab_type": "code",
        "colab": {}
      },
      "cell_type": "code",
      "source": [
        "i = 0\n",
        "j = 0\n",
        "p = 0    # hash value for pattern \n",
        "t = 0    # hash value for txt \n",
        "h = 1    "
      ],
      "execution_count": 0,
      "outputs": []
    },
    {
      "metadata": {
        "id": "tPVaU8r3raak",
        "colab_type": "code",
        "outputId": "9e0fae83-d757-40c9-963d-f54419feb94e",
        "colab": {
          "base_uri": "https://localhost:8080/",
          "height": 85
        }
      },
      "cell_type": "code",
      "source": [
        "for i in range(M-1): \n",
        "        print(\"run\")\n",
        "        h = (h*d)%q \n",
        "h"
      ],
      "execution_count": 0,
      "outputs": [
        {
          "output_type": "stream",
          "text": [
            "run\n",
            "run\n",
            "run\n"
          ],
          "name": "stdout"
        },
        {
          "output_type": "execute_result",
          "data": {
            "text/plain": [
              "5"
            ]
          },
          "metadata": {
            "tags": []
          },
          "execution_count": 120
        }
      ]
    },
    {
      "metadata": {
        "id": "1BzSF9aorajG",
        "colab_type": "code",
        "colab": {}
      },
      "cell_type": "code",
      "source": [
        "for i in range(M): \n",
        "        p = (d*p + ord(pat[i]))%q \n",
        "        t = (d*t + ord(txt[i]))%q "
      ],
      "execution_count": 0,
      "outputs": []
    },
    {
      "metadata": {
        "id": "KG_sy4rMXoc4",
        "colab_type": "code",
        "outputId": "49db00d1-5729-45f2-a3ae-7639804b9e50",
        "colab": {
          "base_uri": "https://localhost:8080/",
          "height": 34
        }
      },
      "cell_type": "code",
      "source": [
        "t"
      ],
      "execution_count": 0,
      "outputs": [
        {
          "output_type": "execute_result",
          "data": {
            "text/plain": [
              "27"
            ]
          },
          "metadata": {
            "tags": []
          },
          "execution_count": 91
        }
      ]
    },
    {
      "metadata": {
        "id": "8f7tAGRcraNC",
        "colab_type": "code",
        "outputId": "ac18be13-1ff8-410c-97a2-00270ae0b4ef",
        "colab": {
          "base_uri": "https://localhost:8080/",
          "height": 119
        }
      },
      "cell_type": "code",
      "source": [
        " if p==t: \n",
        "            # Check for characters one by one \n",
        "            for j in range(M): \n",
        "                print(\"turn\")\n",
        "                if txt[i+j] != pat[j]:\n",
        "                    print(txt[i+j])\n",
        "                    print(\"dfdfdfdf\")\n",
        "                    break\n",
        "                j+=1\n",
        "            print(\"ram \",j)\n",
        "            # if p == t and pat[0...M-1] = txt[i, i+1, ...i+M-1] \n",
        "            if j==M: \n",
        "                print (\"Pattern found at index \" + str(i)) \n",
        "                "
      ],
      "execution_count": 0,
      "outputs": [
        {
          "output_type": "stream",
          "text": [
            "turn\n",
            "turn\n",
            "turn\n",
            "turn\n",
            "ram  4\n",
            "Pattern found at index 0\n"
          ],
          "name": "stdout"
        }
      ]
    },
    {
      "metadata": {
        "id": "v4wXwINqT_qZ",
        "colab_type": "code",
        "colab": {}
      },
      "cell_type": "code",
      "source": [
        "if i < N-M: \n",
        "            t = (d*(t-ord(txt[i])*h) + ord(txt[i+M]))%q "
      ],
      "execution_count": 0,
      "outputs": []
    },
    {
      "metadata": {
        "id": "cBPnSeAsT_4o",
        "colab_type": "code",
        "outputId": "89a3129e-8d6f-4a87-ec2d-1195e6564a61",
        "colab": {
          "base_uri": "https://localhost:8080/",
          "height": 34
        }
      },
      "cell_type": "code",
      "source": [
        "h"
      ],
      "execution_count": 0,
      "outputs": [
        {
          "output_type": "execute_result",
          "data": {
            "text/plain": [
              "1"
            ]
          },
          "metadata": {
            "tags": []
          },
          "execution_count": 106
        }
      ]
    },
    {
      "metadata": {
        "id": "MHIkBCQFT_-5",
        "colab_type": "code",
        "outputId": "d30f179a-2580-426e-dd75-a7eb821bf69f",
        "colab": {
          "base_uri": "https://localhost:8080/",
          "height": 102
        }
      },
      "cell_type": "code",
      "source": [
        "# Following program is the python implementation of \n",
        "# Rabin Karp Algorithm given in CLRS book \n",
        "  \n",
        "# d is the number of characters in the input alphabet \n",
        "d = 256\n",
        "  \n",
        "# pat  -> pattern \n",
        "# txt  -> text \n",
        "# q    -> A prime number \n",
        "  \n",
        "def search(pat, txt): \n",
        "    M = len(pat) \n",
        "    N = len(txt) \n",
        "    i = 0\n",
        "    j = 0\n",
        "    p = 0    # hash value for pattern \n",
        "    t = 0    # hash value for txt \n",
        "    h = 1\n",
        "  \n",
        "    # The value of h would be \"pow(d, M-1)%q\" \n",
        "    for i in range(M-1): \n",
        "        h = (h*d)%q\n",
        "        print(\"h\")\n",
        "  \n",
        "    # Calculate the hash value of pattern and first window \n",
        "    # of text \n",
        "    for i in range(M): \n",
        "        p = (p + ord(pat[i]))\n",
        "        \n",
        "        t = (t + ord(txt[i])) \n",
        "    i=0\n",
        "    # Slide the pattern over text one by one \n",
        "    for i in range(N-M+1): \n",
        "        # Check the hash values of current window of text and \n",
        "        # pattern if the hash values match then only check \n",
        "        # for characters on by one \n",
        "        if p==t: \n",
        "            # Check for characters one by one \n",
        "            for j in range(M): \n",
        "                if txt[i+j] != pat[j]: \n",
        "                    break\n",
        "  \n",
        "            j+=1\n",
        "            # if p == t and pat[0...M-1] = txt[i, i+1, ...i+M-1] \n",
        "            if j==M: \n",
        "                print (\"Pattern found at index \" + str(i)) \n",
        "            \n",
        "        # Calculate hash value for next window of text: Remove \n",
        "        # leading digit, add trailing digit \n",
        "        if i < N-M: \n",
        "            t = t-ord(txt[i]) + ord(txt[i+M])\n",
        "  \n",
        "            # We might get negative values of t, converting it to \n",
        "            # positive \n",
        "            if t < 0: \n",
        "                t = t+q \n",
        "  \n",
        "# Driver program to test the above function \n",
        "txt = \"GEEKS FOR GEEKS\"\n",
        "pat = \"GEEK\"\n",
        "search(pat,txt) "
      ],
      "execution_count": 0,
      "outputs": [
        {
          "output_type": "stream",
          "text": [
            "h\n",
            "h\n",
            "h\n",
            "Pattern found at index 0\n",
            "Pattern found at index 10\n"
          ],
          "name": "stdout"
        }
      ]
    },
    {
      "metadata": {
        "id": "lG3jFmT6UAI1",
        "colab_type": "code",
        "colab": {}
      },
      "cell_type": "code",
      "source": [
        ""
      ],
      "execution_count": 0,
      "outputs": []
    },
    {
      "metadata": {
        "id": "d4KTLS4tUAST",
        "colab_type": "code",
        "colab": {}
      },
      "cell_type": "code",
      "source": [
        "# Following program is the python implementation of \n",
        "# Rabin Karp Algorithm given in CLRS book \n",
        "  \n",
        "# d is the number of characters in the input alphabet \n",
        "d = 256\n",
        "  \n",
        "# pat  -> pattern \n",
        "# txt  -> text \n",
        "# q    -> A prime number \n",
        "  \n",
        "def search(pat, txt, q): \n",
        "    M = len(pat) \n",
        "    N = len(txt) \n",
        "    i = 0\n",
        "    j = 0\n",
        "    p = 0    # hash value for pattern \n",
        "    t = 0    # hash value for txt \n",
        "    h = 1\n",
        "  \n",
        "    # The value of h would be \"pow(d, M-1)%q\" \n",
        "    for i in range(M-1): \n",
        "        h = (h*d)%q \n",
        "        print(\"h\", h)\n",
        "  \n",
        "    # Calculate the hash value of pattern and first window \n",
        "    # of text \n",
        "    for i in range(M): \n",
        "        p = (d*p + ord(pat[i]))%q \n",
        "        print(\"p \",p)\n",
        "        t = (d*t + ord(txt[i]))%q \n",
        "        print(\"t \",t)\n",
        "  \n",
        "    # Slide the pattern over text one by one \n",
        "    for i in range(N-M+1): \n",
        "        # Check the hash values of current window of text and \n",
        "        # pattern if the hash values match then only check \n",
        "        # for characters on by one \n",
        "        if p==t: \n",
        "            # Check for characters one by one \n",
        "            for j in range(M): \n",
        "                if txt[i+j] != pat[j]: \n",
        "                    break\n",
        "  \n",
        "            j+=1\n",
        "            # if p == t and pat[0...M-1] = txt[i, i+1, ...i+M-1] \n",
        "            if j==M: \n",
        "                print (\"Pattern found at index \" + str(i))\n",
        "                \n",
        "  \n",
        "        # Calculate hash value for next window of text: Remove \n",
        "        # leading digit, add trailing digit \n",
        "        if i < N-M: \n",
        "            t = (d*(t-ord(txt[i])*h) + ord(txt[i+M]))%q \n",
        "            print(\"t new \",t)\n",
        "  \n",
        "            # We might get negative values of t, converting it to \n",
        "            # positive \n",
        "            if t < 0: \n",
        "                t = t+q \n",
        "                print(\"t yaha bhi\")\n",
        "  \n",
        "# Driver program to test the above function \n",
        "txt = \"AsGEEKS FOR GEEKS\"\n",
        "pat = \"GEEKS\"\n",
        "q = 101 # A prime number \n",
        "search(pat,txt,q) "
      ],
      "execution_count": 0,
      "outputs": []
    },
    {
      "metadata": {
        "id": "VurAgI9fUAci",
        "colab_type": "code",
        "outputId": "0562f45e-ca77-45dd-d7cc-8b292a73c41f",
        "colab": {
          "base_uri": "https://localhost:8080/",
          "height": 34
        }
      },
      "cell_type": "code",
      "source": [
        "10/3\n"
      ],
      "execution_count": 0,
      "outputs": [
        {
          "output_type": "execute_result",
          "data": {
            "text/plain": [
              "3.3333333333333335"
            ]
          },
          "metadata": {
            "tags": []
          },
          "execution_count": 155
        }
      ]
    },
    {
      "metadata": {
        "id": "E7alDlesUAZK",
        "colab_type": "code",
        "colab": {}
      },
      "cell_type": "code",
      "source": [
        ""
      ],
      "execution_count": 0,
      "outputs": []
    },
    {
      "metadata": {
        "id": "A99nB6PKUAWy",
        "colab_type": "code",
        "colab": {}
      },
      "cell_type": "code",
      "source": [
        ""
      ],
      "execution_count": 0,
      "outputs": []
    },
    {
      "metadata": {
        "id": "ONir6EHbUAQo",
        "colab_type": "code",
        "colab": {}
      },
      "cell_type": "code",
      "source": [
        ""
      ],
      "execution_count": 0,
      "outputs": []
    },
    {
      "metadata": {
        "id": "JVfdg5q5UAM5",
        "colab_type": "code",
        "outputId": "c7ed0df9-6816-4cd7-c9ba-52f96c81387c",
        "colab": {
          "base_uri": "https://localhost:8080/"
        }
      },
      "cell_type": "code",
      "source": [
        "import numpy as np \n",
        "import matplotlib.pyplot as plt \n",
        "\n",
        "def estimate_coef(x, y): \n",
        "\t# number of observations/points \n",
        "\tn = np.size(x) \n",
        "\n",
        "\t# mean of x and y vector \n",
        "\tm_x, m_y = np.mean(x), np.mean(y) \n",
        "\t\n",
        "\t# calculating cross-deviation and deviation about x \n",
        "\tSS_xy = np.sum(y*x) - n*m_y*m_x \n",
        "\tSS_xx = np.sum(x*x) - n*m_x*m_x \n",
        "\tprint(SS_xy)\n",
        "    print(SS_xx)\n",
        "\t# calculating regression coefficients \n",
        "\tb_1 = SS_xy / SS_xx \n",
        "\tb_0 = m_y - b_1*m_x \n",
        "\n",
        "\treturn(b_0, b_1) \n",
        "\n",
        "def plot_regression_line(x, y, b): \n",
        "\t# plotting the actual points as scatter plot \n",
        "\tplt.scatter(x, y, color = \"m\", \n",
        "\t\t\tmarker = \"o\", s = 30) \n",
        "\n",
        "\t# predicted response vector \n",
        "\ty_pred = b[0] + b[1]*x \n",
        "\n",
        "\t# plotting the regression line \n",
        "\tplt.plot(x, y_pred, color = \"g\") \n",
        "\n",
        "\t# putting labels \n",
        "\tplt.xlabel('x') \n",
        "\tplt.ylabel('y') \n",
        "\n",
        "\t# function to show plot \n",
        "\tplt.show() \n",
        "\n",
        "def main(): \n",
        "\t# observations \n",
        "\tx = np.array([0, 1, 2, 3, 4, 5, 6, 7, 8, 9]) \n",
        "\ty = np.array([1, 3, 2, 5, 7, 8, 8, 9, 10, 12]) \n",
        "\n",
        "\t# estimating coefficients \n",
        "\tb = estimate_coef(x, y) \n",
        "\tprint(\"Estimated coefficients:\\nb_0 = {} \\ \n",
        "\t\t\\nb_1 = {}\".format(b[0], b[1])) \n",
        "\n",
        "\t# plotting regression line \n",
        "\tplot_regression_line(x, y, b) \n",
        "\n",
        "if __name__ == \"__main__\": \n",
        "\tmain() \n"
      ],
      "execution_count": 0,
      "outputs": [
        {
          "output_type": "error",
          "ename": "IndentationError",
          "evalue": "ignored",
          "traceback": [
            "\u001b[0;36m  File \u001b[0;32m\"<ipython-input-2-27b883fee1f8>\"\u001b[0;36m, line \u001b[0;32m15\u001b[0m\n\u001b[0;31m    print(SS_xx)\u001b[0m\n\u001b[0m                ^\u001b[0m\n\u001b[0;31mIndentationError\u001b[0m\u001b[0;31m:\u001b[0m unindent does not match any outer indentation level\n"
          ]
        }
      ]
    },
    {
      "metadata": {
        "id": "mvj3uLetUAGB",
        "colab_type": "code",
        "colab": {}
      },
      "cell_type": "code",
      "source": [
        ""
      ],
      "execution_count": 0,
      "outputs": []
    },
    {
      "metadata": {
        "id": "CXzRvy3UUADZ",
        "colab_type": "code",
        "colab": {}
      },
      "cell_type": "code",
      "source": [
        ""
      ],
      "execution_count": 0,
      "outputs": []
    },
    {
      "metadata": {
        "id": "-Bim_JlqT_8p",
        "colab_type": "code",
        "colab": {}
      },
      "cell_type": "code",
      "source": [
        ""
      ],
      "execution_count": 0,
      "outputs": []
    },
    {
      "metadata": {
        "id": "n5C6x_m4T_1s",
        "colab_type": "code",
        "colab": {}
      },
      "cell_type": "code",
      "source": [
        ""
      ],
      "execution_count": 0,
      "outputs": []
    },
    {
      "metadata": {
        "id": "1RKyNg45T_u1",
        "colab_type": "code",
        "colab": {}
      },
      "cell_type": "code",
      "source": [
        ""
      ],
      "execution_count": 0,
      "outputs": []
    },
    {
      "metadata": {
        "id": "lyc2RVlnraGt",
        "colab_type": "code",
        "colab": {}
      },
      "cell_type": "code",
      "source": [
        ""
      ],
      "execution_count": 0,
      "outputs": []
    },
    {
      "metadata": {
        "id": "ZpeTBxpgpBKY",
        "colab_type": "code",
        "outputId": "93d1b978-189f-407d-b4eb-370412ee7bbe",
        "colab": {
          "base_uri": "https://localhost:8080/",
          "height": 164
        }
      },
      "cell_type": "code",
      "source": [
        "feed_dict\n"
      ],
      "execution_count": 0,
      "outputs": [
        {
          "output_type": "error",
          "ename": "NameError",
          "evalue": "ignored",
          "traceback": [
            "\u001b[0;31m---------------------------------------------------------------------------\u001b[0m",
            "\u001b[0;31mNameError\u001b[0m                                 Traceback (most recent call last)",
            "\u001b[0;32m<ipython-input-20-56d39dc01d4a>\u001b[0m in \u001b[0;36m<module>\u001b[0;34m()\u001b[0m\n\u001b[0;32m----> 1\u001b[0;31m \u001b[0mfeed_dict\u001b[0m\u001b[0;34m\u001b[0m\u001b[0;34m\u001b[0m\u001b[0m\n\u001b[0m",
            "\u001b[0;31mNameError\u001b[0m: name 'feed_dict' is not defined"
          ]
        }
      ]
    },
    {
      "metadata": {
        "id": "_4J3rI-3pBPo",
        "colab_type": "code",
        "colab": {}
      },
      "cell_type": "code",
      "source": [
        ""
      ],
      "execution_count": 0,
      "outputs": []
    },
    {
      "metadata": {
        "id": "wB3FgawOpBTU",
        "colab_type": "code",
        "colab": {}
      },
      "cell_type": "code",
      "source": [
        ""
      ],
      "execution_count": 0,
      "outputs": []
    },
    {
      "metadata": {
        "id": "BZKxue0JpBOH",
        "colab_type": "code",
        "colab": {}
      },
      "cell_type": "code",
      "source": [
        ""
      ],
      "execution_count": 0,
      "outputs": []
    },
    {
      "metadata": {
        "id": "5tDuP-tBpBEj",
        "colab_type": "code",
        "colab": {}
      },
      "cell_type": "code",
      "source": [
        ""
      ],
      "execution_count": 0,
      "outputs": []
    },
    {
      "metadata": {
        "id": "o3_7zBiqpBCE",
        "colab_type": "code",
        "colab": {}
      },
      "cell_type": "code",
      "source": [
        ""
      ],
      "execution_count": 0,
      "outputs": []
    }
  ]
}