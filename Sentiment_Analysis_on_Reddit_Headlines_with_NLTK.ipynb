{
  "nbformat": 4,
  "nbformat_minor": 0,
  "metadata": {
    "colab": {
      "name": "Copy of Sentiment Analysis on Reddit Headlines with NLTK.ipynb",
      "version": "0.3.2",
      "provenance": [],
      "include_colab_link": true
    },
    "kernelspec": {
      "display_name": "Python 3",
      "language": "python",
      "name": "python3"
    }
  },
  "cells": [
    {
      "cell_type": "markdown",
      "metadata": {
        "id": "view-in-github",
        "colab_type": "text"
      },
      "source": [
        "<a href=\"https://colab.research.google.com/github/DeepHiveMind/Models-used-in-Deep-Learning-and-Deep-Reinforcement-Learning/blob/master/Copy_of_Sentiment_Analysis_on_Reddit_Headlines_with_NLTK.ipynb\" target=\"_parent\"><img src=\"https://colab.research.google.com/assets/colab-badge.svg\" alt=\"Open In Colab\"/></a>"
      ]
    },
    {
      "metadata": {
        "id": "Dxod9pyw1ucv",
        "colab_type": "text"
      },
      "cell_type": "markdown",
      "source": [
        "# Sentiment Analysis on Reddit News Headlines with Python’s Natural Language Toolkit (NLTK)"
      ]
    },
    {
      "metadata": {
        "id": "XjiXalK51uc0",
        "colab_type": "code",
        "colab": {}
      },
      "cell_type": "code",
      "source": [
        "from IPython import display\n",
        "import math\n",
        "from pprint import pprint\n",
        "import pandas as pd\n",
        "import numpy as np\n",
        "import nltk\n",
        "import matplotlib.pyplot as plt\n",
        "import seaborn as sns\n",
        "sns.set(style='darkgrid', context='talk', palette='Dark2')"
      ],
      "execution_count": 0,
      "outputs": []
    },
    {
      "metadata": {
        "id": "cJigreUo3hNS",
        "colab_type": "code",
        "colab": {}
      },
      "cell_type": "code",
      "source": [
        "!pip install -q praw"
      ],
      "execution_count": 0,
      "outputs": []
    },
    {
      "metadata": {
        "id": "YmW_CPSQ1uc6",
        "colab_type": "code",
        "colab": {}
      },
      "cell_type": "code",
      "source": [
        "import praw\n",
        "\n",
        "reddit = praw.Reddit(client_id='68BmtbG2YtzdNQ',\n",
        "                     client_secret='vmGWPMblu21-JDaSq81CuRkK2vE',\n",
        "                     user_agent='reddit_by_dhrub')"
      ],
      "execution_count": 0,
      "outputs": []
    },
    {
      "metadata": {
        "id": "WHo8mN0Y3gST",
        "colab_type": "code",
        "colab": {}
      },
      "cell_type": "code",
      "source": [
        ""
      ],
      "execution_count": 0,
      "outputs": []
    },
    {
      "metadata": {
        "id": "VQPqCdfW1uc9",
        "colab_type": "code",
        "colab": {}
      },
      "cell_type": "code",
      "source": [
        "headlines = set()"
      ],
      "execution_count": 0,
      "outputs": []
    },
    {
      "metadata": {
        "id": "b1_mhgQr1udB",
        "colab_type": "code",
        "outputId": "c338f48f-ced7-4fec-a692-bc4fab45c451",
        "colab": {
          "base_uri": "https://localhost:8080/",
          "height": 34
        }
      },
      "cell_type": "code",
      "source": [
        "for submission in reddit.subreddit('politics').new(limit=None):\n",
        "    headlines.add(submission.title)\n",
        "    display.clear_output()\n",
        "    print(len(headlines))"
      ],
      "execution_count": 0,
      "outputs": [
        {
          "output_type": "stream",
          "text": [
            "941\n"
          ],
          "name": "stdout"
        }
      ]
    },
    {
      "metadata": {
        "id": "4O5wJ_VN1udK",
        "colab_type": "code",
        "outputId": "052fbc0d-4dca-421d-9db8-3ffab04b1c33",
        "colab": {
          "base_uri": "https://localhost:8080/",
          "height": 272
        }
      },
      "cell_type": "code",
      "source": [
        "from nltk.sentiment.vader import SentimentIntensityAnalyzer as SIA\n",
        "\n",
        "sia = SIA()\n",
        "results = []\n",
        "\n",
        "for line in headlines:\n",
        "    pol_score = sia.polarity_scores(line)\n",
        "    #print(pol_score)\n",
        "    #pprint(line)\n",
        "    pol_score['headline'] = line\n",
        "    results.append(pol_score)\n",
        "\n",
        "pprint(results[:3], width=100)"
      ],
      "execution_count": 0,
      "outputs": [
        {
          "output_type": "stream",
          "text": [
            "[{'compound': -0.4404,\n",
            "  'headline': \"Would Trump's AG nominee bury a Russia scandal report from Mueller?\",\n",
            "  'neg': 0.244,\n",
            "  'neu': 0.756,\n",
            "  'pos': 0.0},\n",
            " {'compound': 0.3182,\n",
            "  'headline': \"Trump says solution to shutdown impasse 'so simple'\",\n",
            "  'neg': 0.0,\n",
            "  'neu': 0.753,\n",
            "  'pos': 0.247},\n",
            " {'compound': -0.8625,\n",
            "  'headline': 'Pence Insists ISIS Has Been Defeated Same Day Terror Group Claims Syria Attack',\n",
            "  'neg': 0.49,\n",
            "  'neu': 0.51,\n",
            "  'pos': 0.0}]\n"
          ],
          "name": "stdout"
        }
      ]
    },
    {
      "metadata": {
        "id": "vJbewTU897jM",
        "colab_type": "code",
        "outputId": "c2b71132-ca16-4f1d-e860-63ff6a248a0d",
        "colab": {
          "base_uri": "https://localhost:8080/",
          "height": 51
        }
      },
      "cell_type": "code",
      "source": [
        "nltk.download('vader_lexicon')"
      ],
      "execution_count": 0,
      "outputs": [
        {
          "output_type": "stream",
          "text": [
            "[nltk_data] Downloading package vader_lexicon to /root/nltk_data...\n"
          ],
          "name": "stdout"
        },
        {
          "output_type": "execute_result",
          "data": {
            "text/plain": [
              "True"
            ]
          },
          "metadata": {
            "tags": []
          },
          "execution_count": 22
        }
      ]
    },
    {
      "metadata": {
        "id": "yrEY6-J38ZIC",
        "colab_type": "code",
        "colab": {}
      },
      "cell_type": "code",
      "source": [
        "results"
      ],
      "execution_count": 0,
      "outputs": []
    },
    {
      "metadata": {
        "id": "2Ef3ucrM1udP",
        "colab_type": "code",
        "outputId": "7690912f-6c24-4a78-8375-c0d6474a1c7e",
        "colab": {
          "base_uri": "https://localhost:8080/",
          "height": 204
        }
      },
      "cell_type": "code",
      "source": [
        "df = pd.DataFrame(results)\n",
        "df.head()"
      ],
      "execution_count": 0,
      "outputs": [
        {
          "output_type": "execute_result",
          "data": {
            "text/html": [
              "<div>\n",
              "<style scoped>\n",
              "    .dataframe tbody tr th:only-of-type {\n",
              "        vertical-align: middle;\n",
              "    }\n",
              "\n",
              "    .dataframe tbody tr th {\n",
              "        vertical-align: top;\n",
              "    }\n",
              "\n",
              "    .dataframe thead th {\n",
              "        text-align: right;\n",
              "    }\n",
              "</style>\n",
              "<table border=\"1\" class=\"dataframe\">\n",
              "  <thead>\n",
              "    <tr style=\"text-align: right;\">\n",
              "      <th></th>\n",
              "      <th>compound</th>\n",
              "      <th>headline</th>\n",
              "      <th>neg</th>\n",
              "      <th>neu</th>\n",
              "      <th>pos</th>\n",
              "    </tr>\n",
              "  </thead>\n",
              "  <tbody>\n",
              "    <tr>\n",
              "      <th>0</th>\n",
              "      <td>-0.4404</td>\n",
              "      <td>Would Trump's AG nominee bury a Russia scandal...</td>\n",
              "      <td>0.244</td>\n",
              "      <td>0.756</td>\n",
              "      <td>0.000</td>\n",
              "    </tr>\n",
              "    <tr>\n",
              "      <th>1</th>\n",
              "      <td>0.3182</td>\n",
              "      <td>Trump says solution to shutdown impasse 'so si...</td>\n",
              "      <td>0.000</td>\n",
              "      <td>0.753</td>\n",
              "      <td>0.247</td>\n",
              "    </tr>\n",
              "    <tr>\n",
              "      <th>2</th>\n",
              "      <td>-0.8625</td>\n",
              "      <td>Pence Insists ISIS Has Been Defeated Same Day ...</td>\n",
              "      <td>0.490</td>\n",
              "      <td>0.510</td>\n",
              "      <td>0.000</td>\n",
              "    </tr>\n",
              "    <tr>\n",
              "      <th>3</th>\n",
              "      <td>0.0000</td>\n",
              "      <td>Trump ‘considering recognising’ Venezuela oppo...</td>\n",
              "      <td>0.000</td>\n",
              "      <td>1.000</td>\n",
              "      <td>0.000</td>\n",
              "    </tr>\n",
              "    <tr>\n",
              "      <th>4</th>\n",
              "      <td>-0.2500</td>\n",
              "      <td>Justices Express Skepticism of Tennessee Law o...</td>\n",
              "      <td>0.200</td>\n",
              "      <td>0.800</td>\n",
              "      <td>0.000</td>\n",
              "    </tr>\n",
              "  </tbody>\n",
              "</table>\n",
              "</div>"
            ],
            "text/plain": [
              "   compound                                           headline    neg    neu  \\\n",
              "0   -0.4404  Would Trump's AG nominee bury a Russia scandal...  0.244  0.756   \n",
              "1    0.3182  Trump says solution to shutdown impasse 'so si...  0.000  0.753   \n",
              "2   -0.8625  Pence Insists ISIS Has Been Defeated Same Day ...  0.490  0.510   \n",
              "3    0.0000  Trump ‘considering recognising’ Venezuela oppo...  0.000  1.000   \n",
              "4   -0.2500  Justices Express Skepticism of Tennessee Law o...  0.200  0.800   \n",
              "\n",
              "     pos  \n",
              "0  0.000  \n",
              "1  0.247  \n",
              "2  0.000  \n",
              "3  0.000  \n",
              "4  0.000  "
            ]
          },
          "metadata": {
            "tags": []
          },
          "execution_count": 48
        }
      ]
    },
    {
      "metadata": {
        "id": "aBUU03221udT",
        "colab_type": "code",
        "outputId": "0e2e97c0-085d-4a18-e0c8-e15a7baa19e5",
        "colab": {
          "base_uri": "https://localhost:8080/",
          "height": 204
        }
      },
      "cell_type": "code",
      "source": [
        "df['label'] = 0\n",
        "df.loc[df['compound'] > 0.2, 'label'] = 1\n",
        "df.loc[df['compound'] < -0.2, 'label'] = -1\n",
        "df.head()"
      ],
      "execution_count": 0,
      "outputs": [
        {
          "output_type": "execute_result",
          "data": {
            "text/html": [
              "<div>\n",
              "<style scoped>\n",
              "    .dataframe tbody tr th:only-of-type {\n",
              "        vertical-align: middle;\n",
              "    }\n",
              "\n",
              "    .dataframe tbody tr th {\n",
              "        vertical-align: top;\n",
              "    }\n",
              "\n",
              "    .dataframe thead th {\n",
              "        text-align: right;\n",
              "    }\n",
              "</style>\n",
              "<table border=\"1\" class=\"dataframe\">\n",
              "  <thead>\n",
              "    <tr style=\"text-align: right;\">\n",
              "      <th></th>\n",
              "      <th>compound</th>\n",
              "      <th>headline</th>\n",
              "      <th>neg</th>\n",
              "      <th>neu</th>\n",
              "      <th>pos</th>\n",
              "      <th>label</th>\n",
              "    </tr>\n",
              "  </thead>\n",
              "  <tbody>\n",
              "    <tr>\n",
              "      <th>0</th>\n",
              "      <td>-0.4404</td>\n",
              "      <td>Would Trump's AG nominee bury a Russia scandal...</td>\n",
              "      <td>0.244</td>\n",
              "      <td>0.756</td>\n",
              "      <td>0.000</td>\n",
              "      <td>-1</td>\n",
              "    </tr>\n",
              "    <tr>\n",
              "      <th>1</th>\n",
              "      <td>0.3182</td>\n",
              "      <td>Trump says solution to shutdown impasse 'so si...</td>\n",
              "      <td>0.000</td>\n",
              "      <td>0.753</td>\n",
              "      <td>0.247</td>\n",
              "      <td>1</td>\n",
              "    </tr>\n",
              "    <tr>\n",
              "      <th>2</th>\n",
              "      <td>-0.8625</td>\n",
              "      <td>Pence Insists ISIS Has Been Defeated Same Day ...</td>\n",
              "      <td>0.490</td>\n",
              "      <td>0.510</td>\n",
              "      <td>0.000</td>\n",
              "      <td>-1</td>\n",
              "    </tr>\n",
              "    <tr>\n",
              "      <th>3</th>\n",
              "      <td>0.0000</td>\n",
              "      <td>Trump ‘considering recognising’ Venezuela oppo...</td>\n",
              "      <td>0.000</td>\n",
              "      <td>1.000</td>\n",
              "      <td>0.000</td>\n",
              "      <td>0</td>\n",
              "    </tr>\n",
              "    <tr>\n",
              "      <th>4</th>\n",
              "      <td>-0.2500</td>\n",
              "      <td>Justices Express Skepticism of Tennessee Law o...</td>\n",
              "      <td>0.200</td>\n",
              "      <td>0.800</td>\n",
              "      <td>0.000</td>\n",
              "      <td>-1</td>\n",
              "    </tr>\n",
              "  </tbody>\n",
              "</table>\n",
              "</div>"
            ],
            "text/plain": [
              "   compound                                           headline    neg    neu  \\\n",
              "0   -0.4404  Would Trump's AG nominee bury a Russia scandal...  0.244  0.756   \n",
              "1    0.3182  Trump says solution to shutdown impasse 'so si...  0.000  0.753   \n",
              "2   -0.8625  Pence Insists ISIS Has Been Defeated Same Day ...  0.490  0.510   \n",
              "3    0.0000  Trump ‘considering recognising’ Venezuela oppo...  0.000  1.000   \n",
              "4   -0.2500  Justices Express Skepticism of Tennessee Law o...  0.200  0.800   \n",
              "\n",
              "     pos  label  \n",
              "0  0.000     -1  \n",
              "1  0.247      1  \n",
              "2  0.000     -1  \n",
              "3  0.000      0  \n",
              "4  0.000     -1  "
            ]
          },
          "metadata": {
            "tags": []
          },
          "execution_count": 49
        }
      ]
    },
    {
      "metadata": {
        "id": "lhZZIjiA1udY",
        "colab_type": "code",
        "colab": {}
      },
      "cell_type": "code",
      "source": [
        "df2 = df[['headline', 'label']]"
      ],
      "execution_count": 0,
      "outputs": []
    },
    {
      "metadata": {
        "id": "_RzPUbJ21udd",
        "colab_type": "code",
        "colab": {}
      },
      "cell_type": "code",
      "source": [
        "df2.to_csv('reddit_headlines_labels.csv', mode='a', encoding='utf-8', index=False)"
      ],
      "execution_count": 0,
      "outputs": []
    },
    {
      "metadata": {
        "id": "z-eUtf5h1udg",
        "colab_type": "code",
        "outputId": "5e71f27e-7e5f-4924-87e9-2fa688a442fd",
        "colab": {
          "base_uri": "https://localhost:8080/",
          "height": 85
        }
      },
      "cell_type": "code",
      "source": [
        "df.label.value_counts()"
      ],
      "execution_count": 0,
      "outputs": [
        {
          "output_type": "execute_result",
          "data": {
            "text/plain": [
              " 0    431\n",
              "-1    331\n",
              " 1    179\n",
              "Name: label, dtype: int64"
            ]
          },
          "metadata": {
            "tags": []
          },
          "execution_count": 52
        }
      ]
    },
    {
      "metadata": {
        "id": "AZixiaNA1udk",
        "colab_type": "code",
        "outputId": "232b08a8-e436-4c93-abba-6ec3b1b19eb5",
        "colab": {
          "base_uri": "https://localhost:8080/",
          "height": 309
        }
      },
      "cell_type": "code",
      "source": [
        "print(\"Positive headlines:\\n\")\n",
        "\n",
        "#Doubt to clear\n",
        "\n",
        "pprint(list(df[df['label'] == 1].headline)[:5], width=200)\n",
        "\n",
        "print(\"\\nNegative headlines:\\n\")\n",
        "pprint(list(df[df['label'] == -1].headline)[:5], width=200)"
      ],
      "execution_count": 0,
      "outputs": [
        {
          "output_type": "stream",
          "text": [
            "Positive headlines:\n",
            "\n",
            "[\"Trump says solution to shutdown impasse 'so simple'\",\n",
            " 'T-Mobile executives stayed at Trump’s hotel while merger that needed administration’s approval was pending',\n",
            " 'Pelosi Pulls State Of The Union Surprise On Trump',\n",
            " 'Sen. Rand Paul says the free market pushed him to Canada for surgery',\n",
            " 'Seven Trump Accusers’ Stories Take the Stage in ‘The Pussy Grabber Plays’ — A vital new collection of plays continues the work that Trump’s accusers started, amplifying their stories to anyone '\n",
            " 'who’s still listening.']\n",
            "\n",
            "Negative headlines:\n",
            "\n",
            "[\"Would Trump's AG nominee bury a Russia scandal report from Mueller?\",\n",
            " 'Pence Insists ISIS Has Been Defeated Same Day Terror Group Claims Syria Attack',\n",
            " 'Justices Express Skepticism of Tennessee Law on Liquor Stores',\n",
            " 'House passes disaster relief bill to fund government through Feb. 8',\n",
            " 'Republicans Seem to Think Our Russia Problems Are Over?']\n"
          ],
          "name": "stdout"
        }
      ]
    },
    {
      "metadata": {
        "id": "Fh5kQW9P1udq",
        "colab_type": "code",
        "outputId": "59ca1d89-8bd9-47f6-ab33-5fad97715769",
        "colab": {
          "base_uri": "https://localhost:8080/",
          "height": 85
        }
      },
      "cell_type": "code",
      "source": [
        "df.label.value_counts(normalize=True) * 100"
      ],
      "execution_count": 0,
      "outputs": [
        {
          "output_type": "execute_result",
          "data": {
            "text/plain": [
              " 0    45.802338\n",
              "-1    35.175345\n",
              " 1    19.022317\n",
              "Name: label, dtype: float64"
            ]
          },
          "metadata": {
            "tags": []
          },
          "execution_count": 54
        }
      ]
    },
    {
      "metadata": {
        "id": "QC5AC-5E1udv",
        "colab_type": "code",
        "outputId": "1447c718-fd3d-4277-de61-92b71a9178bd",
        "colab": {
          "base_uri": "https://localhost:8080/",
          "height": 589
        }
      },
      "cell_type": "code",
      "source": [
        "fig, ax = plt.subplots(figsize=(8, 8))\n",
        "\n",
        "counts = df.label.value_counts(normalize=True) * 100\n",
        "print(counts)\n",
        "\n",
        "sns.barplot(x=counts.index, y=counts, ax=ax)\n",
        "\n",
        "ax.set_xticklabels(['Negative', 'Neutral', 'Positive'])\n",
        "ax.set_ylabel(\"Percentage\")\n",
        "\n",
        "plt.show()"
      ],
      "execution_count": 0,
      "outputs": [
        {
          "output_type": "stream",
          "text": [
            " 0    45.802338\n",
            "-1    35.175345\n",
            " 1    19.022317\n",
            "Name: label, dtype: float64\n"
          ],
          "name": "stdout"
        },
        {
          "output_type": "stream",
          "text": [
            "/usr/local/lib/python3.6/dist-packages/seaborn/categorical.py:1428: FutureWarning: remove_na is deprecated and is a private function. Do not use.\n",
            "  stat_data = remove_na(group_data)\n"
          ],
          "name": "stderr"
        },
        {
          "output_type": "display_data",
          "data": {
            "image/png": "[encoded data removed]",
            "text/plain": [
              "<Figure size 576x576 with 1 Axes>"
            ]
          },
          "metadata": {
            "tags": []
          }
        }
      ]
    },
    {
      "metadata": {
        "id": "8YO56Fic1udz",
        "colab_type": "code",
        "outputId": "61f05189-04a1-4fbf-e524-8ef8a63ddd80",
        "colab": {
          "base_uri": "https://localhost:8080/",
          "height": 68
        }
      },
      "cell_type": "code",
      "source": [
        "from nltk.tokenize import word_tokenize, RegexpTokenizer\n",
        "nltk.download('punkt')\n",
        "\n",
        "example = \"This is an example sentence! However, it isn't a very informative one\"\n",
        "\n",
        "print(word_tokenize(example, language='english'))"
      ],
      "execution_count": 0,
      "outputs": [
        {
          "output_type": "stream",
          "text": [
            "[nltk_data] Downloading package punkt to /root/nltk_data...\n",
            "[nltk_data]   Unzipping tokenizers/punkt.zip.\n",
            "['This', 'is', 'an', 'example', 'sentence', '!', 'However', ',', 'it', 'is', \"n't\", 'a', 'very', 'informative', 'one']\n"
          ],
          "name": "stdout"
        }
      ]
    },
    {
      "metadata": {
        "id": "3lRh2V3I1ud7",
        "colab_type": "code",
        "outputId": "15ff28fa-ec49-42ba-8047-74c9acb733bf",
        "colab": {
          "base_uri": "https://localhost:8080/",
          "height": 34
        }
      },
      "cell_type": "code",
      "source": [
        "tokenizer = RegexpTokenizer(r'\\w+')\n",
        "print(tokenizer.tokenize(example))"
      ],
      "execution_count": 0,
      "outputs": [
        {
          "output_type": "stream",
          "text": [
            "['This', 'is', 'an', 'example', 'sentence', 'However', 'it', 'isn', 't', 'a', 'very', 'informative', 'one']\n"
          ],
          "name": "stdout"
        }
      ]
    },
    {
      "metadata": {
        "id": "n2rO3i1U1ueB",
        "colab_type": "code",
        "outputId": "c679c2e4-aae4-40a5-c955-404cbe876c0b",
        "colab": {
          "base_uri": "https://localhost:8080/",
          "height": 88
        }
      },
      "cell_type": "code",
      "source": [
        "from nltk.corpus import stopwords\n",
        "nltk.download('stopwords')\n",
        "stop_words = stopwords.words('english')\n",
        "print(stop_words[:20])"
      ],
      "execution_count": 0,
      "outputs": [
        {
          "output_type": "stream",
          "text": [
            "[nltk_data] Downloading package stopwords to /root/nltk_data...\n",
            "[nltk_data]   Unzipping corpora/stopwords.zip.\n",
            "['i', 'me', 'my', 'myself', 'we', 'our', 'ours', 'ourselves', 'you', \"you're\", \"you've\", \"you'll\", \"you'd\", 'your', 'yours', 'yourself', 'yourselves', 'he', 'him', 'his']\n"
          ],
          "name": "stdout"
        }
      ]
    },
    {
      "metadata": {
        "id": "dEVzcbZ71ueH",
        "colab_type": "code",
        "colab": {}
      },
      "cell_type": "code",
      "source": [
        "#STUDY FROM HERE\n",
        "\n",
        "def process_text(headlines):\n",
        "    tokens = []\n",
        "    for line in headlines:\n",
        "        line = line.lower()\n",
        "        toks = tokenizer.tokenize(line)\n",
        "        toks = [t for t in toks if t not in stop_words]\n",
        "        tokens.extend(toks)\n",
        "    \n",
        "    return tokens"
      ],
      "execution_count": 0,
      "outputs": []
    },
    {
      "metadata": {
        "id": "ShC7k7o81ueO",
        "colab_type": "code",
        "outputId": "0cd9e94f-7a52-4871-d2b5-0d9cb63db2d9",
        "colab": {
          "base_uri": "https://localhost:8080/",
          "height": 357
        }
      },
      "cell_type": "code",
      "source": [
        "pos_lines = list(df[df.label == 1].headline)\n",
        "\n",
        "pos_tokens = process_text(pos_lines)\n",
        "pos_freq = nltk.FreqDist(pos_tokens)\n",
        "\n",
        "pos_freq.most_common(20)"
      ],
      "execution_count": 0,
      "outputs": [
        {
          "output_type": "execute_result",
          "data": {
            "text/plain": [
              "[('trump', 69),\n",
              " ('shutdown', 25),\n",
              " ('ocasio', 17),\n",
              " ('cortez', 17),\n",
              " ('says', 16),\n",
              " ('house', 13),\n",
              " ('government', 12),\n",
              " ('barr', 12),\n",
              " ('wall', 10),\n",
              " ('administration', 9),\n",
              " ('state', 9),\n",
              " ('u', 8),\n",
              " ('could', 8),\n",
              " ('william', 8),\n",
              " ('security', 8),\n",
              " ('committee', 8),\n",
              " ('pelosi', 7),\n",
              " ('union', 7),\n",
              " ('help', 7),\n",
              " ('donald', 7)]"
            ]
          },
          "metadata": {
            "tags": []
          },
          "execution_count": 66
        }
      ]
    },
    {
      "metadata": {
        "id": "3CBrgxRe1ueU",
        "colab_type": "code",
        "outputId": "4632f63f-ef2d-431d-bf10-9438f1fedacb",
        "colab": {
          "base_uri": "https://localhost:8080/",
          "height": 360
        }
      },
      "cell_type": "code",
      "source": [
        "y_val = [x[1] for x in pos_freq.most_common()]\n",
        "y_val\n",
        "\n",
        "fig = plt.figure(figsize=(10,5))\n",
        "plt.plot(y_val)\n",
        "\n",
        "plt.xlabel(\"Words\")\n",
        "plt.ylabel(\"Frequency\")\n",
        "plt.title(\"Word Frequency Distribution (Positive)\")\n",
        "plt.show()"
      ],
      "execution_count": 0,
      "outputs": [
        {
          "output_type": "display_data",
          "data": {
            "image/png": "[encoded data removed]",
            "text/plain": [
              "<Figure size 720x360 with 1 Axes>"
            ]
          },
          "metadata": {
            "tags": []
          }
        }
      ]
    },
    {
      "metadata": {
        "id": "pJPI9I181ueY",
        "colab_type": "code",
        "outputId": "19ecb057-e0a2-48ef-dd83-55b10fff3a98",
        "colab": {
          "base_uri": "https://localhost:8080/",
          "height": 360
        }
      },
      "cell_type": "code",
      "source": [
        "y_final = []\n",
        "for i, k, z, t in zip(y_val[0::4], y_val[1::4], y_val[2::4], y_val[3::4]):\n",
        "    y_final.append(math.log(i + k + z + t))\n",
        "\n",
        "x_val = [math.log(i + 1) for i in range(len(y_final))]\n",
        "\n",
        "fig = plt.figure(figsize=(10,5))\n",
        "\n",
        "plt.xlabel(\"Words (Log)\")\n",
        "plt.ylabel(\"Frequency (Log)\")\n",
        "plt.title(\"Word Frequency Distribution (Positive)\")\n",
        "plt.plot(x_val, y_final)\n",
        "plt.show()"
      ],
      "execution_count": 0,
      "outputs": [
        {
          "output_type": "display_data",
          "data": {
            "image/png": "[encoded data removed]",
            "text/plain": [
              "<Figure size 720x360 with 1 Axes>"
            ]
          },
          "metadata": {
            "tags": []
          }
        }
      ]
    },
    {
      "metadata": {
        "id": "6HgoI6A21uec",
        "colab_type": "code",
        "outputId": "073658f5-f28d-4265-9188-489afe4b95be",
        "colab": {
          "base_uri": "https://localhost:8080/",
          "height": 357
        }
      },
      "cell_type": "code",
      "source": [
        "neg_lines = list(df2[df2.label == -1].headline)\n",
        "\n",
        "neg_tokens = process_text(neg_lines)\n",
        "neg_freq = nltk.FreqDist(neg_tokens)\n",
        "\n",
        "neg_freq.most_common(20)"
      ],
      "execution_count": 0,
      "outputs": [
        {
          "output_type": "execute_result",
          "data": {
            "text/plain": [
              "[('trump', 116),\n",
              " ('shutdown', 66),\n",
              " ('says', 24),\n",
              " ('government', 23),\n",
              " ('us', 23),\n",
              " ('state', 22),\n",
              " ('attack', 21),\n",
              " ('pelosi', 21),\n",
              " ('syria', 20),\n",
              " ('house', 20),\n",
              " ('u', 18),\n",
              " ('white', 18),\n",
              " ('russia', 17),\n",
              " ('king', 16),\n",
              " ('union', 16),\n",
              " ('democrats', 15),\n",
              " ('federal', 15),\n",
              " ('isis', 13),\n",
              " ('steve', 13),\n",
              " ('wall', 12)]"
            ]
          },
          "metadata": {
            "tags": []
          },
          "execution_count": 69
        }
      ]
    },
    {
      "metadata": {
        "id": "RAl_DH7G1ueg",
        "colab_type": "code",
        "outputId": "6ca4e83f-cb13-4fb7-fcc7-52b432ad2b40",
        "colab": {
          "base_uri": "https://localhost:8080/",
          "height": 360
        }
      },
      "cell_type": "code",
      "source": [
        "y_val = [x[1] for x in neg_freq.most_common()]\n",
        "\n",
        "fig = plt.figure(figsize=(10,5))\n",
        "plt.plot(y_val)\n",
        "\n",
        "plt.xlabel(\"Words\")\n",
        "plt.ylabel(\"Frequency\")\n",
        "plt.title(\"Word Frequency Distribution (Negative)\")\n",
        "plt.show()"
      ],
      "execution_count": 0,
      "outputs": [
        {
          "output_type": "display_data",
          "data": {
            "image/png": "[encoded data removed]",
            "text/plain": [
              "<Figure size 720x360 with 1 Axes>"
            ]
          },
          "metadata": {
            "tags": []
          }
        }
      ]
    },
    {
      "metadata": {
        "id": "gc3Ub9sw1uek",
        "colab_type": "code",
        "outputId": "6bff1e85-c715-4ab3-a9c4-a899f394ed34",
        "colab": {
          "base_uri": "https://localhost:8080/",
          "height": 360
        }
      },
      "cell_type": "code",
      "source": [
        "y_final = []\n",
        "for i, k, z in zip(y_val[0::3], y_val[1::3], y_val[2::3]):\n",
        "    if i + k + z == 0:\n",
        "        break\n",
        "    y_final.append(math.log(i + k + z))\n",
        "\n",
        "x_val = [math.log(i+1) for i in range(len(y_final))]\n",
        "\n",
        "fig = plt.figure(figsize=(10,5))\n",
        "\n",
        "plt.xlabel(\"Words (Log)\")\n",
        "plt.ylabel(\"Frequency (Log)\")\n",
        "plt.title(\"Word Frequency Distribution (Negative)\")\n",
        "plt.plot(x_val, y_final)\n",
        "plt.show()"
      ],
      "execution_count": 0,
      "outputs": [
        {
          "output_type": "display_data",
          "data": {
            "image/png": "[encoded data removed]",
            "text/plain": [
              "<Figure size 720x360 with 1 Axes>"
            ]
          },
          "metadata": {
            "tags": []
          }
        }
      ]
    },
    {
      "metadata": {
        "id": "kk54aUSC1uep",
        "colab_type": "code",
        "colab": {}
      },
      "cell_type": "code",
      "source": [
        ""
      ],
      "execution_count": 0,
      "outputs": []
    }
  ]
}
