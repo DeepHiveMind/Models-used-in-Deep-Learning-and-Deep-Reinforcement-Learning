{
  "nbformat": 4,
  "nbformat_minor": 0,
  "metadata": {
    "colab": {
      "name": "Speech Recognition Example",
      "version": "0.3.2",
      "provenance": [],
      "collapsed_sections": [],
      "include_colab_link": true
    },
    "kernelspec": {
      "display_name": "Python 3",
      "language": "python",
      "name": "python3"
    },
    "accelerator": "GPU"
  },
  "cells": [
    {
      "cell_type": "markdown",
      "metadata": {
        "id": "view-in-github",
        "colab_type": "text"
      },
      "source": [
        "<a href=\"https://colab.research.google.com/github/DeepHiveMind/Models-used-in-Deep-Learning-and-Deep-Reinforcement-Learning/blob/master/Speech_Recognition_Example.ipynb\" target=\"_parent\"><img src=\"https://colab.research.google.com/assets/colab-badge.svg\" alt=\"Open In Colab\"/></a>"
      ]
    },
    {
      "metadata": {
        "id": "DeR2ilHEbwl9",
        "colab_type": "text"
      },
      "cell_type": "markdown",
      "source": [
        "<b>Mounting Google Drive in Google Colab"
      ]
    },
    {
      "metadata": {
        "colab_type": "code",
        "id": "BYHVVrbSW9C3",
        "outputId": "a93f281d-01e0-4352-dda6-44ecf3dc63a5",
        "colab": {
          "base_uri": "https://localhost:8080/",
          "height": 124
        }
      },
      "cell_type": "code",
      "source": [
        "from google.colab import drive\n",
        "drive.mount('/mydrive')"
      ],
      "execution_count": 0,
      "outputs": [
        {
          "output_type": "stream",
          "text": [
            "Go to this URL in a browser: https://accounts.google.com/o/oauth2/auth?client_id=947318989803-6bn6qk8qdgf4n4g3pfee6491hc0brc4i.apps.googleusercontent.com&redirect_uri=urn%3Aietf%3Awg%3Aoauth%3A2.0%3Aoob&scope=email%20https%3A%2F%2Fwww.googleapis.com%2Fauth%2Fdocs.test%20https%3A%2F%2Fwww.googleapis.com%2Fauth%2Fdrive%20https%3A%2F%2Fwww.googleapis.com%2Fauth%2Fdrive.photos.readonly%20https%3A%2F%2Fwww.googleapis.com%2Fauth%2Fpeopleapi.readonly&response_type=code\n",
            "\n",
            "Enter your authorization code:\n",
            "··········\n",
            "Mounted at /mydrive\n"
          ],
          "name": "stdout"
        }
      ]
    },
    {
      "metadata": {
        "id": "7Rhb0iOnbwni",
        "colab_type": "text"
      },
      "cell_type": "markdown",
      "source": [
        "<b>Navigating to project directory"
      ]
    },
    {
      "metadata": {
        "colab_type": "code",
        "id": "s-ThKjZwW_6_",
        "outputId": "796eb6b5-7d33-4ac5-fca3-e10f4ee494c9",
        "colab": {
          "base_uri": "https://localhost:8080/",
          "height": 35
        }
      },
      "cell_type": "code",
      "source": [
        "cd .."
      ],
      "execution_count": 0,
      "outputs": [
        {
          "output_type": "stream",
          "text": [
            "/\n"
          ],
          "name": "stdout"
        }
      ]
    },
    {
      "metadata": {
        "colab_type": "code",
        "id": "_y8cdl7vXCRH",
        "outputId": "f762294b-5a9d-41af-a1ad-a418af113c0e",
        "colab": {
          "base_uri": "https://localhost:8080/",
          "height": 35
        }
      },
      "cell_type": "code",
      "source": [
        "cd mydrive/My Drive/speech_command_recognition"
      ],
      "execution_count": 0,
      "outputs": [
        {
          "output_type": "stream",
          "text": [
            "/mydrive/My Drive/speech_command_recognition\n"
          ],
          "name": "stdout"
        }
      ]
    },
    {
      "metadata": {
        "id": "Zj7bjftGbwn3",
        "colab_type": "text"
      },
      "cell_type": "markdown",
      "source": [
        "<b>Installing required packages"
      ]
    },
    {
      "metadata": {
        "colab_type": "code",
        "id": "qEuDq0XwXRRI",
        "outputId": "638cb609-25c7-4ad9-cf33-d21afff5563f",
        "colab": {
          "base_uri": "https://localhost:8080/",
          "height": 1303
        }
      },
      "cell_type": "code",
      "source": [
        "!pip3 install http://download.pytorch.org/whl/cu80/torch-0.4.1-cp36-cp36m-linux_x86_64.whl \n",
        "!pip3 install torchvision\n",
        "!pip3 install librosa\n",
        "!pip3 install Pillow==4.0.0\n",
        "!pip3 install PIL\n",
        "!pip3 install image\n",
        "import PIL.Image"
      ],
      "execution_count": 0,
      "outputs": [
        {
          "output_type": "stream",
          "text": [
            "Collecting torch==0.4.1 from http://download.pytorch.org/whl/cu80/torch-0.4.1-cp36-cp36m-linux_x86_64.whl\n",
            "\u001b[?25l  Downloading http://download.pytorch.org/whl/cu80/torch-0.4.1-cp36-cp36m-linux_x86_64.whl (483.0MB)\n",
            "\u001b[K    100% |████████████████████████████████| 483.0MB 42.9MB/s \n",
            "tcmalloc: large alloc 1073750016 bytes == 0x57a0c000 @  0x7f743efca1c4 0x46d6a4 0x5fcbcc 0x4c494d 0x54f3c4 0x553aaf 0x54e4c8 0x54f4f6 0x553aaf 0x54efc1 0x54f24d 0x553aaf 0x54efc1 0x54f24d 0x553aaf 0x54efc1 0x54f24d 0x551ee0 0x54e4c8 0x54f4f6 0x553aaf 0x54efc1 0x54f24d 0x551ee0 0x54efc1 0x54f24d 0x551ee0 0x54e4c8 0x54f4f6 0x553aaf 0x54e4c8\n",
            "\u001b[?25hInstalling collected packages: torch\n",
            "Successfully installed torch-0.4.1\n",
            "Collecting torchvision\n",
            "\u001b[?25l  Downloading https://files.pythonhosted.org/packages/ca/0d/f00b2885711e08bd71242ebe7b96561e6f6d01fdb4b9dcf4d37e2e13c5e1/torchvision-0.2.1-py2.py3-none-any.whl (54kB)\n",
            "\u001b[K    100% |████████████████████████████████| 61kB 2.8MB/s \n",
            "\u001b[?25hRequirement already satisfied: torch in /usr/local/lib/python3.6/dist-packages (from torchvision) (0.4.1)\n",
            "Collecting pillow>=4.1.1 (from torchvision)\n",
            "\u001b[?25l  Downloading https://files.pythonhosted.org/packages/d1/24/f53ff6b61b3d728b90934bddb4f03f8ab584a7f49299bf3bde56e2952612/Pillow-5.2.0-cp36-cp36m-manylinux1_x86_64.whl (2.0MB)\n",
            "\u001b[K    100% |████████████████████████████████| 2.0MB 6.7MB/s \n",
            "\u001b[?25hRequirement already satisfied: six in /usr/local/lib/python3.6/dist-packages (from torchvision) (1.11.0)\n",
            "Requirement already satisfied: numpy in /usr/local/lib/python3.6/dist-packages (from torchvision) (1.14.5)\n",
            "Installing collected packages: pillow, torchvision\n",
            "  Found existing installation: Pillow 4.0.0\n",
            "    Uninstalling Pillow-4.0.0:\n",
            "      Successfully uninstalled Pillow-4.0.0\n",
            "Successfully installed pillow-5.2.0 torchvision-0.2.1\n",
            "Collecting librosa\n",
            "\u001b[?25l  Downloading https://files.pythonhosted.org/packages/09/b4/5b411f19de48f8fc1a0ff615555aa9124952e4156e94d4803377e50cfa4c/librosa-0.6.2.tar.gz (1.6MB)\n",
            "\u001b[K    100% |████████████████████████████████| 1.6MB 8.4MB/s \n",
            "\u001b[?25hCollecting audioread>=2.0.0 (from librosa)\n",
            "  Downloading https://files.pythonhosted.org/packages/f0/41/8cd160c6b2046b997d571a744a7f398f39e954a62dd747b2aae1ad7f07d4/audioread-2.1.6.tar.gz\n",
            "Requirement already satisfied: numpy>=1.8.0 in /usr/local/lib/python3.6/dist-packages (from librosa) (1.14.5)\n",
            "Requirement already satisfied: scipy>=0.14.0 in /usr/local/lib/python3.6/dist-packages (from librosa) (0.19.1)\n",
            "Requirement already satisfied: scikit-learn!=0.19.0,>=0.14.0 in /usr/local/lib/python3.6/dist-packages (from librosa) (0.19.2)\n",
            "Requirement already satisfied: joblib>=0.12 in /usr/local/lib/python3.6/dist-packages (from librosa) (0.12.5)\n",
            "Requirement already satisfied: decorator>=3.0.0 in /usr/local/lib/python3.6/dist-packages (from librosa) (4.3.0)\n",
            "Requirement already satisfied: six>=1.3 in /usr/local/lib/python3.6/dist-packages (from librosa) (1.11.0)\n",
            "Collecting resampy>=0.2.0 (from librosa)\n",
            "\u001b[?25l  Downloading https://files.pythonhosted.org/packages/14/b6/66a06d85474190b50aee1a6c09cdc95bb405ac47338b27e9b21409da1760/resampy-0.2.1.tar.gz (322kB)\n",
            "\u001b[K    100% |████████████████████████████████| 327kB 10.7MB/s \n",
            "\u001b[?25hCollecting numba>=0.38.0 (from librosa)\n",
            "\u001b[?25l  Downloading https://files.pythonhosted.org/packages/83/ac/c87f229ae7f29fbf85bc5405f85ec7097c979c021dac52f2d5206834a899/numba-0.40.0-cp36-cp36m-manylinux1_x86_64.whl (2.4MB)\n",
            "\u001b[K    100% |████████████████████████████████| 2.4MB 9.9MB/s \n",
            "\u001b[?25hCollecting llvmlite>=0.25.0dev0 (from numba>=0.38.0->librosa)\n",
            "\u001b[?25l  Downloading https://files.pythonhosted.org/packages/34/fb/f9c2e9e0ef2b54c52f0b727cf6af75b68c3d7ddb6d88c8d557b1b16bc1ab/llvmlite-0.25.0-cp36-cp36m-manylinux1_x86_64.whl (16.1MB)\n",
            "\u001b[K    100% |████████████████████████████████| 16.1MB 2.4MB/s \n",
            "\u001b[?25hBuilding wheels for collected packages: librosa, audioread, resampy\n",
            "  Running setup.py bdist_wheel for librosa ... \u001b[?25ldone\n",
            "\u001b[?25h  Stored in directory: /root/.cache/pip/wheels/18/b8/10/f0f8f6ac60668a5cd75596cf14c25bb6b3ea1ecd815f058b7e\n",
            "  Running setup.py bdist_wheel for audioread ... \u001b[?25ldone\n",
            "\u001b[?25h  Stored in directory: /root/.cache/pip/wheels/53/02/90/7b5c4081b7470c550ab605f600bad237dde12a6b8999b11f50\n",
            "  Running setup.py bdist_wheel for resampy ... \u001b[?25ldone\n",
            "\u001b[?25h  Stored in directory: /root/.cache/pip/wheels/ff/4f/ed/2e6c676c23efe5394bb40ade50662e90eb46e29b48324c5f9b\n",
            "Successfully built librosa audioread resampy\n",
            "Installing collected packages: audioread, llvmlite, numba, resampy, librosa\n",
            "Successfully installed audioread-2.1.6 librosa-0.6.2 llvmlite-0.25.0 numba-0.40.0 resampy-0.2.1\n",
            "Collecting Pillow==4.0.0\n",
            "\u001b[?25l  Downloading https://files.pythonhosted.org/packages/37/e8/b3fbf87b0188d22246678f8cd61e23e31caa1769ebc06f1664e2e5fe8a17/Pillow-4.0.0-cp36-cp36m-manylinux1_x86_64.whl (5.6MB)\n",
            "\u001b[K    100% |████████████████████████████████| 5.6MB 923kB/s \n",
            "\u001b[?25hRequirement already satisfied: olefile in /usr/local/lib/python3.6/dist-packages (from Pillow==4.0.0) (0.46)\n",
            "\u001b[31mtorchvision 0.2.1 has requirement pillow>=4.1.1, but you'll have pillow 4.0.0 which is incompatible.\u001b[0m\n",
            "Installing collected packages: Pillow\n",
            "  Found existing installation: Pillow 5.2.0\n",
            "    Uninstalling Pillow-5.2.0:\n",
            "      Successfully uninstalled Pillow-5.2.0\n",
            "Successfully installed Pillow-4.0.0\n",
            "Collecting PIL\n",
            "\u001b[31m  Could not find a version that satisfies the requirement PIL (from versions: )\u001b[0m\n",
            "\u001b[31mNo matching distribution found for PIL\u001b[0m\n",
            "Collecting image\n",
            "  Downloading https://files.pythonhosted.org/packages/7f/87/105be16055fee170e0b0beb362b23f70151c9e61925e8062a6add1251a85/image-1.5.25-py2.py3-none-any.whl\n",
            "Collecting django (from image)\n",
            "\u001b[?25l  Downloading https://files.pythonhosted.org/packages/ca/7e/fc068d164b32552ae3a8f8d5d0280c083f2e8d553e71ecacc21927564561/Django-2.1.1-py3-none-any.whl (7.3MB)\n",
            "\u001b[K    100% |████████████████████████████████| 7.3MB 3.3MB/s \n",
            "\u001b[?25hRequirement already satisfied: pillow in /usr/local/lib/python3.6/dist-packages (from image) (4.0.0)\n",
            "Requirement already satisfied: pytz in /usr/local/lib/python3.6/dist-packages (from django->image) (2018.5)\n",
            "Requirement already satisfied: olefile in /usr/local/lib/python3.6/dist-packages (from pillow->image) (0.46)\n",
            "Installing collected packages: django, image\n",
            "Successfully installed django-2.1.1 image-1.5.25\n"
          ],
          "name": "stdout"
        }
      ]
    },
    {
      "metadata": {
        "id": "eopZ9gN2bwoC",
        "colab_type": "text"
      },
      "cell_type": "markdown",
      "source": [
        "<h2>Getting more juice from Google Colab</h2>\n",
        "By default, the size of /dev/shm directory in Google Colab is only 64 MB.\n",
        "If we use this default size, then we cannot use num_workers in pytorch dataloaders, because 64MB is not enough to fit more than 1 batch (with batch size of 64) in /dev/shm.\n",
        "With num_wokers=0, it will take around 80 minutes to train the model (only the fc layer) just for 1 epoch (235 batches).\n",
        "In these commands, we increase the size of /dev/shm to 4 GB which allows us to use num_workers=8 with batch_size of 64.\n",
        "Pytorch's dataloader loads data from dataset and applies the specified transformations. This whole process is done on CPU. Only the model training is done on GPU. On Google Colab, it takes around 1-1.5 seconds to train 1 batch (of size 64) on GPU. The rest of time is spent on loading the batches. With num_workers=8, pytorch uses python multiprocessing to load batches and keep it ready when required. This python multiprocessing uses /dev/shm to store the batches that are ready. Note that /dev/shm (shared memory) is virtual memory which resides on RAM and not on HDD, therefore it has faster access. With /dev/shm of size 4GB and num_workers=8, it takes around 2 minutes 50 seconds (for fc layer) for training a single epoch which has 235 batches!"
      ]
    },
    {
      "metadata": {
        "id": "oDynEATTbwoE",
        "colab_type": "text"
      },
      "cell_type": "markdown",
      "source": [
        "<b>df -h is used to display information about mounted partitions. (Note the size of /dev/shm is 64M)"
      ]
    },
    {
      "metadata": {
        "colab_type": "code",
        "id": "u4bDRp4Pbvzg",
        "outputId": "ad1dc693-7e82-4450-f6da-935b9cf0feb9",
        "colab": {
          "base_uri": "https://localhost:8080/",
          "height": 173
        }
      },
      "cell_type": "code",
      "source": [
        "!df -h"
      ],
      "execution_count": 0,
      "outputs": [
        {
          "output_type": "stream",
          "text": [
            "Filesystem      Size  Used Avail Use% Mounted on\n",
            "overlay         359G   11G  330G   4% /\n",
            "tmpfs           6.4G     0  6.4G   0% /dev\n",
            "tmpfs           6.4G     0  6.4G   0% /sys/fs/cgroup\n",
            "tmpfs           6.4G  249M  6.2G   4% /opt/bin\n",
            "/dev/sda1       365G   13G  353G   4% /etc/hosts\n",
            "shm              64M     0   64M   0% /dev/shm\n",
            "tmpfs           6.4G     0  6.4G   0% /sys/firmware\n",
            "drive            15G   12G  3.4G  78% /mydrive\n"
          ],
          "name": "stdout"
        }
      ]
    },
    {
      "metadata": {
        "colab_type": "code",
        "id": "nNXSZ8UefWoS",
        "outputId": "b164d874-a084-4ca1-9254-2e8d8dae3f3d",
        "colab": {
          "base_uri": "https://localhost:8080/",
          "height": 35
        }
      },
      "cell_type": "code",
      "source": [
        "cat ../../../etc/fstab"
      ],
      "execution_count": 0,
      "outputs": [
        {
          "output_type": "stream",
          "text": [
            "# UNCONFIGURED FSTAB FOR BASE SYSTEM\n"
          ],
          "name": "stdout"
        }
      ]
    },
    {
      "metadata": {
        "id": "MnbhWaMxbwoj",
        "colab_type": "text"
      },
      "cell_type": "markdown",
      "source": [
        "<b>To change the size of /dev/shm, we need to modify the /etc/fstab file"
      ]
    },
    {
      "metadata": {
        "colab_type": "code",
        "id": "sHfNTVwkfpWy",
        "colab": {}
      },
      "cell_type": "code",
      "source": [
        "!echo \"tmpfs /dev/shm tmpfs defaults,size=4g 0 0\" >> ../../../etc/fstab"
      ],
      "execution_count": 0,
      "outputs": []
    },
    {
      "metadata": {
        "colab_type": "code",
        "id": "xjAyaB3FftfP",
        "outputId": "71d78111-1e61-40f7-9f5e-fb6939872fb4",
        "colab": {
          "base_uri": "https://localhost:8080/",
          "height": 52
        }
      },
      "cell_type": "code",
      "source": [
        "cat ../../../etc/fstab"
      ],
      "execution_count": 0,
      "outputs": [
        {
          "output_type": "stream",
          "text": [
            "# UNCONFIGURED FSTAB FOR BASE SYSTEM\n",
            "tmpfs /dev/shm tmpfs defaults,size=4g 0 0\n"
          ],
          "name": "stdout"
        }
      ]
    },
    {
      "metadata": {
        "id": "_3_GhhYObwoy",
        "colab_type": "text"
      },
      "cell_type": "markdown",
      "source": [
        "<b>After modifying the /etc/fstab file, we need to remount /dev/shm"
      ]
    },
    {
      "metadata": {
        "colab_type": "code",
        "id": "ek20UZROf07L",
        "colab": {}
      },
      "cell_type": "code",
      "source": [
        "!mount -o remount /dev/shm"
      ],
      "execution_count": 0,
      "outputs": []
    },
    {
      "metadata": {
        "id": "EDV6RnQKbwo5",
        "colab_type": "text"
      },
      "cell_type": "markdown",
      "source": [
        "<b>We can now see that the size of /dev/shm is changed to 4GB"
      ]
    },
    {
      "metadata": {
        "colab_type": "code",
        "id": "O15ccVpPf6us",
        "outputId": "13740da2-e44d-4bbf-ea22-52a713ea1671",
        "colab": {
          "base_uri": "https://localhost:8080/",
          "height": 173
        }
      },
      "cell_type": "code",
      "source": [
        "!df -h"
      ],
      "execution_count": 0,
      "outputs": [
        {
          "output_type": "stream",
          "text": [
            "Filesystem      Size  Used Avail Use% Mounted on\n",
            "overlay         359G   11G  330G   4% /\n",
            "tmpfs           6.4G     0  6.4G   0% /dev\n",
            "tmpfs           6.4G     0  6.4G   0% /sys/fs/cgroup\n",
            "tmpfs           6.4G  249M  6.2G   4% /opt/bin\n",
            "/dev/sda1       365G   13G  353G   4% /etc/hosts\n",
            "shm             4.0G     0  4.0G   0% /dev/shm\n",
            "tmpfs           6.4G     0  6.4G   0% /sys/firmware\n",
            "drive            15G   12G  3.4G  78% /mydrive\n"
          ],
          "name": "stdout"
        }
      ]
    },
    {
      "metadata": {
        "colab_type": "code",
        "id": "DgXlQuyUXP3a",
        "colab": {}
      },
      "cell_type": "code",
      "source": [
        "%reload_ext autoreload\n",
        "%autoreload 2\n",
        "%matplotlib inline"
      ],
      "execution_count": 0,
      "outputs": []
    },
    {
      "metadata": {
        "id": "KlN3kzPzbwpQ",
        "colab_type": "text"
      },
      "cell_type": "markdown",
      "source": [
        "<b>Importing required packages from project"
      ]
    },
    {
      "metadata": {
        "colab_type": "code",
        "id": "xgpRETPiWEI4",
        "colab": {}
      },
      "cell_type": "code",
      "source": [
        "import torch\n",
        "from torchvision import models\n",
        "import matplotlib.pyplot as plt\n",
        "from data_loaders import data_loader\n",
        "from trainer import train"
      ],
      "execution_count": 0,
      "outputs": []
    },
    {
      "metadata": {
        "colab_type": "code",
        "id": "-nJ97kocWEJI",
        "colab": {}
      },
      "cell_type": "code",
      "source": [
        "PATH = 'datasets/speech_command_data/'\n",
        "train_path = f'{PATH}train'\n",
        "valid_path = f'{PATH}valid'\n",
        "test_path = 'datasets/test_images'"
      ],
      "execution_count": 0,
      "outputs": []
    },
    {
      "metadata": {
        "colab_type": "code",
        "id": "FueNCeg_WEJP",
        "outputId": "7328dda8-f4e0-4596-8f6f-1bb53c44ac4a",
        "colab": {
          "base_uri": "https://localhost:8080/",
          "height": 69
        }
      },
      "cell_type": "code",
      "source": [
        "train_dl, valid_dl, test_dl = data_loader.get_data_loaders(train_path=train_path, valid_path=valid_path, test_path=test_path,\n",
        "                                                          batch_size=64, num_workers=8)"
      ],
      "execution_count": 0,
      "outputs": [
        {
          "output_type": "stream",
          "text": [
            "Calculating mean and std of training dataset\n",
            "Mean:tensor([0.2582, 0.1298, 0.3936])\n",
            "Std:tensor([0.0526, 0.1985, 0.0859])\n"
          ],
          "name": "stdout"
        }
      ]
    },
    {
      "metadata": {
        "colab_type": "code",
        "id": "UDuJv5dwWEJZ",
        "colab": {}
      },
      "cell_type": "code",
      "source": [
        "model = models.resnet34(pretrained=True)"
      ],
      "execution_count": 0,
      "outputs": []
    },
    {
      "metadata": {
        "colab_type": "code",
        "id": "hUsp7ApLWEJk",
        "colab": {}
      },
      "cell_type": "code",
      "source": [
        "criterion = torch.nn.CrossEntropyLoss()"
      ],
      "execution_count": 0,
      "outputs": []
    },
    {
      "metadata": {
        "colab_type": "code",
        "id": "OAwtC9ddWEJq",
        "outputId": "af5340d0-1927-4722-eec1-1f79efb6a398",
        "colab": {
          "base_uri": "https://localhost:8080/",
          "height": 35
        }
      },
      "cell_type": "code",
      "source": [
        "trainer = train.ModelTrainer(model=model, train_dl=train_dl, valid_dl=valid_dl, test_dl=test_dl, criterion=criterion)"
      ],
      "execution_count": 0,
      "outputs": [
        {
          "output_type": "stream",
          "text": [
            "Model moved to GPU\n"
          ],
          "name": "stdout"
        }
      ]
    },
    {
      "metadata": {
        "id": "6CYIkG_9bwqA",
        "colab_type": "text"
      },
      "cell_type": "markdown",
      "source": [
        "<b>ModelTrainer modifies the fc layer so that last layer output corressponds to number of classes in training data"
      ]
    },
    {
      "metadata": {
        "colab_type": "code",
        "id": "DoXbbYAkjfKh",
        "outputId": "24207444-613e-49f3-ee89-a666c4bed42d",
        "colab": {
          "base_uri": "https://localhost:8080/",
          "height": 35
        }
      },
      "cell_type": "code",
      "source": [
        "trainer.model.fc"
      ],
      "execution_count": 0,
      "outputs": [
        {
          "output_type": "execute_result",
          "data": {
            "text/plain": [
              "Linear(in_features=512, out_features=10, bias=True)"
            ]
          },
          "metadata": {
            "tags": []
          },
          "execution_count": 12
        }
      ]
    },
    {
      "metadata": {
        "id": "bm-c16XqbwqJ",
        "colab_type": "text"
      },
      "cell_type": "markdown",
      "source": [
        "<b>ModelTrainer freezes all the layers except the fc layer. We can prevent this by passing freeze=False while creating ModelTrainer"
      ]
    },
    {
      "metadata": {
        "colab_type": "code",
        "id": "OUDBrc3wlVsF",
        "outputId": "9a3f19d8-1c3a-44ac-9d0d-b8c3d1094333",
        "colab": {
          "base_uri": "https://localhost:8080/",
          "height": 35
        }
      },
      "cell_type": "code",
      "source": [
        "next(iter(trainer.model.parameters())).requires_grad"
      ],
      "execution_count": 0,
      "outputs": [
        {
          "output_type": "execute_result",
          "data": {
            "text/plain": [
              "False"
            ]
          },
          "metadata": {
            "tags": []
          },
          "execution_count": 13
        }
      ]
    },
    {
      "metadata": {
        "id": "5ISPN9UgbwqY",
        "colab_type": "text"
      },
      "cell_type": "markdown",
      "source": [
        "<b>dummy_sgdr is a function which plots changing learning rate at every iteration in sgdr considering the passed parameters "
      ]
    },
    {
      "metadata": {
        "colab_type": "code",
        "id": "cU9Vz-9dWEJ5",
        "outputId": "caf599c3-a106-4207-ab6a-aa71fb4c5702",
        "colab": {
          "base_uri": "https://localhost:8080/",
          "height": 279
        }
      },
      "cell_type": "code",
      "source": [
        "trainer.dummy_sgdr(learning_rate=1e-2, n_cycles=3, cycle_len=1, cycle_mult=2)"
      ],
      "execution_count": 0,
      "outputs": [
        {
          "output_type": "display_data",
          "data": {
            "image/png": "[encoded data removed]",
            "text/plain": [
              "<Figure size 432x288 with 1 Axes>"
            ]
          },
          "metadata": {
            "tags": [],
            "needs_background": "light"
          }
        }
      ]
    },
    {
      "metadata": {
        "id": "Ez9Wz8LObwqj",
        "colab_type": "text"
      },
      "cell_type": "markdown",
      "source": [
        "<b>Training the newly added fully connected layer for 3 epochs</b>\n",
        "<br>Note:The fit method by default does SGDR. We have only passed value for n_cycles, by not passing values for cycle_len and cycle_mult (by default they both are 1), it is equivalent to training normally for 3 epochs"
      ]
    },
    {
      "metadata": {
        "colab_type": "code",
        "id": "vj_kSZstWEKB",
        "outputId": "0a45784e-2217-4aa0-ce85-010199c31876",
        "colab": {
          "base_uri": "https://localhost:8080/",
          "height": 277
        }
      },
      "cell_type": "code",
      "source": [
        "trainer.fit(n_cycles=3, learning_rate=1e-2)"
      ],
      "execution_count": 0,
      "outputs": [
        {
          "output_type": "stream",
          "text": [
            "Cycle:1\n",
            "\tEpoch:1/1\n",
            "\tTrain Loss:1.300595998764038\n",
            "\tValid Loss:0.023149747610092163 Valid Accuracy:0.5115000000000001\n",
            "\t--------------------------------------------------\n",
            "Cycle:2\n",
            "\tEpoch:1/1\n",
            "\tTrain Loss:1.4793049097061157\n",
            "\tValid Loss:0.021648041665554046 Valid Accuracy:0.533\n",
            "\t--------------------------------------------------\n",
            "Cycle:3\n",
            "\tEpoch:1/1\n",
            "\tTrain Loss:1.055864691734314\n",
            "\tValid Loss:0.021480137884616852 Valid Accuracy:0.537\n",
            "\t--------------------------------------------------\n"
          ],
          "name": "stdout"
        }
      ]
    },
    {
      "metadata": {
        "id": "O2WAh9GZbwqx",
        "colab_type": "text"
      },
      "cell_type": "markdown",
      "source": [
        "<b>The fit method appends the learing rates at each iteration in a list named 'opt_lrs'</b>\n",
        "<br>We can plot that list to visualize the graph of learning rate vs iterations for current SGDR"
      ]
    },
    {
      "metadata": {
        "colab_type": "code",
        "id": "X_hfEV4s1C3e",
        "outputId": "6b3bfa2a-d1ac-4cc9-beca-8adae261ce26",
        "colab": {
          "base_uri": "https://localhost:8080/",
          "height": 283
        }
      },
      "cell_type": "code",
      "source": [
        "plt.plot(trainer.opt_lrs)"
      ],
      "execution_count": 0,
      "outputs": [
        {
          "output_type": "execute_result",
          "data": {
            "text/plain": [
              "[<matplotlib.lines.Line2D at 0x7ff6aed56898>]"
            ]
          },
          "metadata": {
            "tags": []
          },
          "execution_count": 24
        },
        {
          "output_type": "display_data",
          "data": {
            "image/png": "[encoded data removed]",
            "text/plain": [
              "<matplotlib.figure.Figure at 0x7ff6add4da20>"
            ]
          },
          "metadata": {
            "tags": []
          }
        }
      ]
    },
    {
      "metadata": {
        "id": "c2NMSh8ebwrM",
        "colab_type": "text"
      },
      "cell_type": "markdown",
      "source": [
        "<b>Unfreezing all the layers to finetune the network"
      ]
    },
    {
      "metadata": {
        "colab_type": "code",
        "id": "CLd7VS7uWEKN",
        "colab": {}
      },
      "cell_type": "code",
      "source": [
        "trainer.unfreeze()"
      ],
      "execution_count": 0,
      "outputs": []
    },
    {
      "metadata": {
        "id": "RLgghaYkbwrb",
        "colab_type": "text"
      },
      "cell_type": "markdown",
      "source": [
        "<b>Verifying that the model is unfreezed"
      ]
    },
    {
      "metadata": {
        "colab_type": "code",
        "id": "wnhbd_5A1toF",
        "outputId": "d297c286-b1a4-49b7-8e44-d7302db545c4",
        "colab": {
          "base_uri": "https://localhost:8080/",
          "height": 35
        }
      },
      "cell_type": "code",
      "source": [
        "next(iter(trainer.model.parameters())).requires_grad"
      ],
      "execution_count": 0,
      "outputs": [
        {
          "output_type": "execute_result",
          "data": {
            "text/plain": [
              "True"
            ]
          },
          "metadata": {
            "tags": []
          },
          "execution_count": 26
        }
      ]
    },
    {
      "metadata": {
        "id": "NNcBgqJFbwri",
        "colab_type": "text"
      },
      "cell_type": "markdown",
      "source": [
        "<b>Training the model using SGDR for 4 cycles with cycle_mult=2</b>\n",
        "<br>Initially, the cycle_len is 1 epoch. After every cycle, cycle_len is multiplied by cycle_mult to increase the cycle length (number of epochs in cycle). This is the 'restart' in 'Stochastic Gradient Descent with Restarts'."
      ]
    },
    {
      "metadata": {
        "colab_type": "code",
        "id": "yUxtVpNTWEKa",
        "outputId": "649a4d1b-b453-4e18-aa37-521f76190628",
        "colab": {
          "base_uri": "https://localhost:8080/",
          "height": 1196
        }
      },
      "cell_type": "code",
      "source": [
        "trainer.fit(n_cycles=4, cycle_len=1, cycle_mult=2, learning_rate=1e-2, save_snapshot=True)"
      ],
      "execution_count": 0,
      "outputs": [
        {
          "output_type": "stream",
          "text": [
            "Cycle:1\n",
            "\tEpoch:1/1\n",
            "\tTrain Loss:0.02501755952835083\n",
            "\tValid Loss:0.0019359999243170024 Valid Accuracy:0.9580000000000001\n",
            "\t--------------------------------------------------\n",
            "\tSnapshot saved!\n",
            "Cycle:2\n",
            "\tEpoch:1/2\n",
            "\tTrain Loss:0.4578493535518646\n",
            "\tValid Loss:0.0018855551593005657 Valid Accuracy:0.963\n",
            "\t--------------------------------------------------\n",
            "\tEpoch:2/2\n",
            "\tTrain Loss:0.05540933087468147\n",
            "\tValid Loss:0.0015016897190362215 Valid Accuracy:0.968\n",
            "\t--------------------------------------------------\n",
            "\tSnapshot saved!\n",
            "Cycle:3\n",
            "\tEpoch:1/4\n",
            "\tTrain Loss:0.1120382621884346\n",
            "\tValid Loss:0.002009697226807475 Valid Accuracy:0.9595\n",
            "\t--------------------------------------------------\n",
            "\tEpoch:2/4\n",
            "\tTrain Loss:0.0171506404876709\n",
            "\tValid Loss:0.00173743986338377 Valid Accuracy:0.964\n",
            "\t--------------------------------------------------\n",
            "\tEpoch:3/4\n",
            "\tTrain Loss:0.010412613861262798\n",
            "\tValid Loss:0.001596360307186842 Valid Accuracy:0.97\n",
            "\t--------------------------------------------------\n",
            "\tEpoch:4/4\n",
            "\tTrain Loss:0.061952847987413406\n",
            "\tValid Loss:0.001658923216164112 Valid Accuracy:0.97\n",
            "\t--------------------------------------------------\n",
            "\tSnapshot saved!\n",
            "Cycle:4\n",
            "\tEpoch:1/8\n",
            "\tTrain Loss:0.14643998444080353\n",
            "\tValid Loss:0.0019621628001332283 Valid Accuracy:0.9575\n",
            "\t--------------------------------------------------\n",
            "\tEpoch:2/8\n",
            "\tTrain Loss:0.04032711312174797\n",
            "\tValid Loss:0.0024890288449823856 Valid Accuracy:0.9565\n",
            "\t--------------------------------------------------\n",
            "\tEpoch:3/8\n",
            "\tTrain Loss:0.230865478515625\n",
            "\tValid Loss:0.0019493647143244744 Valid Accuracy:0.968\n",
            "\t--------------------------------------------------\n",
            "\tEpoch:4/8\n",
            "\tTrain Loss:0.00012656052422244102\n",
            "\tValid Loss:0.0024570763725787403 Valid Accuracy:0.965\n",
            "\t--------------------------------------------------\n",
            "\tEpoch:5/8\n",
            "\tTrain Loss:0.00012807051825802773\n",
            "\tValid Loss:0.002168480761349201 Valid Accuracy:0.97\n",
            "\t--------------------------------------------------\n",
            "\tEpoch:6/8\n",
            "\tTrain Loss:0.0007304747705347836\n",
            "\tValid Loss:0.00228852534852922 Valid Accuracy:0.971\n",
            "\t--------------------------------------------------\n",
            "\tEpoch:7/8\n",
            "\tTrain Loss:0.0010138750076293945\n",
            "\tValid Loss:0.002380390636622906 Valid Accuracy:0.9715\n",
            "\t--------------------------------------------------\n",
            "\tEpoch:8/8\n",
            "\tTrain Loss:0.0001569986343383789\n",
            "\tValid Loss:0.0022834868282079696 Valid Accuracy:0.97\n",
            "\t--------------------------------------------------\n",
            "\tSnapshot saved!\n"
          ],
          "name": "stdout"
        }
      ]
    },
    {
      "metadata": {
        "id": "BWstCOYXbwru",
        "colab_type": "text"
      },
      "cell_type": "markdown",
      "source": [
        "<b>Again, plotting the opt_lrs list to visualize SGDR"
      ]
    },
    {
      "metadata": {
        "colab_type": "code",
        "id": "WY5c4ops06zY",
        "outputId": "79154b60-b0a0-4925-daaf-8f98ef0d8e8e",
        "colab": {
          "base_uri": "https://localhost:8080/",
          "height": 283
        }
      },
      "cell_type": "code",
      "source": [
        "plt.plot(trainer.opt_lrs)"
      ],
      "execution_count": 0,
      "outputs": [
        {
          "output_type": "execute_result",
          "data": {
            "text/plain": [
              "[<matplotlib.lines.Line2D at 0x7ff6aeceea20>]"
            ]
          },
          "metadata": {
            "tags": []
          },
          "execution_count": 28
        },
        {
          "output_type": "display_data",
          "data": {
            "image/png": "[encoded data removed]",
            "text/plain": [
              "<matplotlib.figure.Figure at 0x7ff6684602e8>"
            ]
          },
          "metadata": {
            "tags": []
          }
        }
      ]
    },
    {
      "metadata": {
        "id": "XLnumYLbbwr2",
        "colab_type": "text"
      },
      "cell_type": "markdown",
      "source": [
        "<b>Loading the latest model"
      ]
    },
    {
      "metadata": {
        "colab_type": "code",
        "id": "PbRQ40_MiwJi",
        "colab": {}
      },
      "cell_type": "code",
      "source": [
        "state = torch.load('saved/2018-09-24_15:30:53/cycle_3')"
      ],
      "execution_count": 0,
      "outputs": []
    },
    {
      "metadata": {
        "colab_type": "code",
        "id": "Q9ephSvljHI6",
        "colab": {}
      },
      "cell_type": "code",
      "source": [
        "trainer.model.load_state_dict(state['model'])"
      ],
      "execution_count": 0,
      "outputs": []
    },
    {
      "metadata": {
        "colab_type": "code",
        "id": "ZZ2nXCy1dh4y",
        "outputId": "116c6a6c-9ab9-4517-d17f-c5d16c52298c",
        "colab": {
          "base_uri": "https://localhost:8080/",
          "height": 35
        }
      },
      "cell_type": "code",
      "source": [
        "test_acc = trainer.test_epoch()"
      ],
      "execution_count": 0,
      "outputs": [
        {
          "output_type": "stream",
          "text": [
            "Performing Test Epoch\n"
          ],
          "name": "stdout"
        }
      ]
    },
    {
      "metadata": {
        "colab_type": "code",
        "id": "-Mx_0tMqkXoD",
        "outputId": "4fc5c0bb-0b40-4a05-f3a4-3d43131ad2f2",
        "colab": {
          "base_uri": "https://localhost:8080/",
          "height": 35
        }
      },
      "cell_type": "code",
      "source": [
        "print(f'Test Accuracy:{test_acc}')"
      ],
      "execution_count": 0,
      "outputs": [
        {
          "output_type": "stream",
          "text": [
            "Test Accuracy:0.9042553191489362\n"
          ],
          "name": "stdout"
        }
      ]
    },
    {
      "metadata": {
        "id": "iSnByZAfbws1",
        "colab_type": "text"
      },
      "cell_type": "markdown",
      "source": [
        "<b>Predicting test set with top 3 snapshots (models)"
      ]
    },
    {
      "metadata": {
        "colab_type": "code",
        "id": "ZTBd03wGlEGp",
        "colab": {}
      },
      "cell_type": "code",
      "source": [
        "snapshot_test_acc_3 = trainer.predict('saved/2018-09-24_15:30:53', n_models=3)"
      ],
      "execution_count": 0,
      "outputs": []
    },
    {
      "metadata": {
        "colab_type": "code",
        "id": "bjKnMUcOl2oV",
        "outputId": "ff276997-61d6-4b23-b9b3-8cab96f5a55f",
        "colab": {
          "base_uri": "https://localhost:8080/",
          "height": 35
        }
      },
      "cell_type": "code",
      "source": [
        "print(f'Snapshot Ensemble Test Accuracy with top 3 models:{snapshot_test_acc_3}')"
      ],
      "execution_count": 0,
      "outputs": [
        {
          "output_type": "stream",
          "text": [
            "Snapshot Ensemble Test Accuracy with top 3 models:0.9042553191489362\n"
          ],
          "name": "stdout"
        }
      ]
    },
    {
      "metadata": {
        "id": "OiO-CLvWbwtD",
        "colab_type": "text"
      },
      "cell_type": "markdown",
      "source": [
        "<b>Predicting test set with top 4 snapshots (models)"
      ]
    },
    {
      "metadata": {
        "colab_type": "code",
        "id": "TeeWBYL-tAtY",
        "colab": {}
      },
      "cell_type": "code",
      "source": [
        "snapshot_test_acc_4 = trainer.predict('saved/2018-09-24_15:30:53', n_models=4)"
      ],
      "execution_count": 0,
      "outputs": []
    },
    {
      "metadata": {
        "colab_type": "code",
        "id": "U0IOWxgjzXfS",
        "outputId": "eebf0eef-6b9d-4c51-c5b4-dff8364f8177",
        "colab": {
          "base_uri": "https://localhost:8080/",
          "height": 35
        }
      },
      "cell_type": "code",
      "source": [
        "print(f'Snapshot Ensemble Test Accuracy with top 4 models:{snapshot_test_acc_4}')"
      ],
      "execution_count": 0,
      "outputs": [
        {
          "output_type": "stream",
          "text": [
            "Snapshot Ensemble Test Accuracy with top 4 models:0.9042553191489362\n"
          ],
          "name": "stdout"
        }
      ]
    }
  ]
}