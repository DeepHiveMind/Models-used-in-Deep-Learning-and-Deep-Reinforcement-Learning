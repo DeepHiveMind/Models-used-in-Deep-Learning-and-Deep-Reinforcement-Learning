{
  "nbformat": 4,
  "nbformat_minor": 0,
  "metadata": {
    "colab": {
      "name": "Model Averaging in Keras",
      "version": "0.3.2",
      "provenance": [],
      "include_colab_link": true
    },
    "kernelspec": {
      "name": "python3",
      "display_name": "Python 3"
    }
  },
  "cells": [
    {
      "cell_type": "markdown",
      "metadata": {
        "id": "view-in-github",
        "colab_type": "text"
      },
      "source": [
        "<a href=\"https://colab.research.google.com/github/DeepHiveMind/Models-used-in-Deep-Learning-and-Deep-Reinforcement-Learning/blob/master/Model_Averaging_in_Keras.ipynb\" target=\"_parent\"><img src=\"https://colab.research.google.com/assets/colab-badge.svg\" alt=\"Open In Colab\"/></a>"
      ]
    },
    {
      "metadata": {
        "id": "4Jc5s1K6to7j",
        "colab_type": "code",
        "colab": {}
      },
      "cell_type": "code",
      "source": [
        "from sklearn.datasets import make_blobs\n",
        "X, y = make_blobs(n_samples=500, centers=3, n_features=2, cluster_std=2, random_state=2)"
      ],
      "execution_count": 0,
      "outputs": []
    },
    {
      "metadata": {
        "id": "WH0e5d-Vu5IY",
        "colab_type": "code",
        "outputId": "e224cff7-b881-45f8-8e27-65db2240258b",
        "colab": {
          "base_uri": "https://localhost:8080/",
          "height": 364
        }
      },
      "cell_type": "code",
      "source": [
        "from matplotlib import pyplot\n",
        "import pandas as pd\n",
        "df = pd.DataFrame(dict(x=X[:,0], y=X[:,1], label=y))\n",
        "colors = {0:'red', 1:'black', 2:'yellow'}\n",
        "fig, ax = pyplot.subplots()\n",
        "grouped = df.groupby('label')\n",
        "for key, group in grouped:\n",
        "  group.plot(ax=ax, kind='scatter', x='x', y='y', label=key, color=colors[key])\n",
        "pyplot.show()"
      ],
      "execution_count": 0,
      "outputs": [
        {
          "output_type": "display_data",
          "data": {
            "image/png": "[encoded data removed]",
            "text/plain": [
              "<matplotlib.figure.Figure at 0x7f9da4c62780>"
            ]
          },
          "metadata": {
            "tags": []
          }
        }
      ]
    },
    {
      "metadata": {
        "id": "dd4m2yyDu5Ro",
        "colab_type": "code",
        "colab": {}
      },
      "cell_type": "code",
      "source": [
        "y"
      ],
      "execution_count": 0,
      "outputs": []
    },
    {
      "metadata": {
        "id": "3-hgPQyru5VJ",
        "colab_type": "code",
        "colab": {}
      },
      "cell_type": "code",
      "source": [
        "X"
      ],
      "execution_count": 0,
      "outputs": []
    },
    {
      "metadata": {
        "id": "319gqJHtu6Hx",
        "colab_type": "code",
        "outputId": "53b16bed-8f0a-44dd-fbed-ec90366451bc",
        "colab": {
          "base_uri": "https://localhost:8080/",
          "height": 34
        }
      },
      "cell_type": "code",
      "source": [
        "from keras.utils import np_utils\n",
        "y = np_utils.to_categorical(y)"
      ],
      "execution_count": 0,
      "outputs": [
        {
          "output_type": "stream",
          "text": [
            "Using TensorFlow backend.\n"
          ],
          "name": "stderr"
        }
      ]
    },
    {
      "metadata": {
        "id": "ooKcZ2QM66AO",
        "colab_type": "code",
        "colab": {}
      },
      "cell_type": "code",
      "source": [
        "y"
      ],
      "execution_count": 0,
      "outputs": []
    },
    {
      "metadata": {
        "id": "pg77m9ST66D3",
        "colab_type": "code",
        "colab": {}
      },
      "cell_type": "code",
      "source": [
        "from sklearn.model_selection import train_test_split\n",
        "X_train, X_test, Y_train, Y_test = train_test_split(X,y,test_size = 0.7, random_state = 1)"
      ],
      "execution_count": 0,
      "outputs": []
    },
    {
      "metadata": {
        "id": "G-O0jP4N66Hm",
        "colab_type": "code",
        "colab": {}
      },
      "cell_type": "code",
      "source": [
        "from keras.models import Sequential\n",
        "from keras.layers import Dense\n",
        "model = Sequential()\n",
        "model.add(Dense(20, input_dim=2, activation='relu'))\n",
        "model.add(Dense(3, activation='softmax'))\n",
        "model.compile(loss='categorical_crossentropy', optimizer='adam', metrics=['accuracy'])\n",
        "_model = model.fit(X_train, Y_train, validation_data=(X_test, Y_test), epochs=100)"
      ],
      "execution_count": 0,
      "outputs": []
    },
    {
      "metadata": {
        "id": "7YGy8NR166Kw",
        "colab_type": "code",
        "outputId": "7fb4d65e-d57c-4a80-c5eb-7291ab418497",
        "colab": {
          "base_uri": "https://localhost:8080/",
          "height": 34
        }
      },
      "cell_type": "code",
      "source": [
        "_, train_acc = model.evaluate(X_train, Y_train, verbose=0)\n",
        "_, test_acc = model.evaluate(X_test, Y_test, verbose=0)\n",
        "print('Train: %.3f, Test: %.3f' % (train_acc, test_acc))"
      ],
      "execution_count": 0,
      "outputs": [
        {
          "output_type": "stream",
          "text": [
            "Train: 0.780, Test: 0.743\n"
          ],
          "name": "stdout"
        }
      ]
    },
    {
      "metadata": {
        "id": "2IgMKz1066Nj",
        "colab_type": "code",
        "outputId": "d32c8f17-1506-41c7-be75-b67f2e78e736",
        "colab": {
          "base_uri": "https://localhost:8080/",
          "height": 204
        }
      },
      "cell_type": "code",
      "source": [
        "def evaluate_model(trainX, trainy, testX, testy):\n",
        "  model = Sequential()\n",
        "  model.add(Dense(25, input_dim=2, activation='relu'))\n",
        "  model.add(Dense(3, activation='softmax'))\n",
        "  model.compile(loss='categorical_crossentropy', optimizer='adam', metrics=['accuracy'])\n",
        "  model.fit(trainX, trainy, epochs=100, verbose=0)\n",
        "  _, test_acc = model.evaluate(testX, testy, verbose=0)\n",
        "  return test_acc\n",
        "n_repeats = 10\n",
        "scores = list()\n",
        "for _ in range(n_repeats):\n",
        "  score = evaluate_model(X_train, Y_train, X_test, Y_test)\n",
        "  print('> %.3f' % score)\n",
        "  scores.append(score)\n",
        "from statistics import *\n",
        "print('Scores Mean: %.3f, Standard Deviation: %.3f' % (mean(scores), stdev(scores)))"
      ],
      "execution_count": 0,
      "outputs": [
        {
          "output_type": "stream",
          "text": [
            "> 0.737\n",
            "> 0.777\n",
            "> 0.769\n",
            "> 0.757\n",
            "> 0.751\n",
            "> 0.737\n",
            "> 0.783\n",
            "> 0.777\n",
            "> 0.754\n",
            "> 0.746\n",
            "Scores Mean: 0.759, Standard Deviation: 0.017\n"
          ],
          "name": "stdout"
        }
      ]
    },
    {
      "metadata": {
        "id": "ZTUC09rW66Qk",
        "colab_type": "code",
        "colab": {}
      },
      "cell_type": "code",
      "source": [
        "#make an ensemble prediction for multi-class classification\n",
        "def ensemble_predictions(members, testX):\n",
        "  #make predictions\n",
        "  yhats = [model.predict(testX) for model in members] \n",
        "  yhats = array(yhats)\n",
        "  #sum across ensemble members\n",
        "  summed = numpy.sum(yhats, axis=0)\n",
        "  #argmax across classes\n",
        "  result = argmax(summed, axis=1)\n",
        "  return result"
      ],
      "execution_count": 0,
      "outputs": []
    },
    {
      "metadata": {
        "id": "YF_4Lw5k66Ti",
        "colab_type": "code",
        "outputId": "8b8a2700-f3fa-4515-ed14-59d67f239933",
        "colab": {
          "base_uri": "https://localhost:8080/",
          "height": 536
        }
      },
      "cell_type": "code",
      "source": [
        "from sklearn.datasets.samples_generator import make_blobs\n",
        "from keras.utils import to_categorical\n",
        "from keras.models import Sequential\n",
        "from keras.layers import Dense\n",
        "import numpy\n",
        "from numpy import array\n",
        "from numpy import argmax\n",
        "from sklearn.metrics import accuracy_score\n",
        "from matplotlib import pyplot\n",
        "from sklearn.model_selection import train_test_split\n",
        "\n",
        "def fit_model(trainX, trainy):\n",
        "  model = Sequential()\n",
        "  model.add(Dense(20, input_dim=2, activation='relu'))\n",
        "  model.add(Dense(3, activation='softmax'))\n",
        "  model.compile(loss='categorical_crossentropy', optimizer='adam', metrics=['accuracy'])\n",
        "  model.fit(trainX, trainy, epochs=100, verbose=0)\n",
        "  return model\n",
        "\n",
        "#make an ensemble prediction for multi-class classification\n",
        "def ensemble_predictions(members, testX):\n",
        "  #make predictions\n",
        "  yhats = [model.predict(testX) for model in members]\n",
        "  yhats = array(yhats)\n",
        "  #sum across ensemble members\n",
        "  summed = numpy.sum(yhats, axis=0)\n",
        "  #argmax across classes\n",
        "  result = argmax(summed, axis=1)\n",
        "  return result\n",
        "\n",
        "#evaluate a specific number of members in an ensemble\n",
        "def evaluate_n_members(members, n_members, testX, testy):\n",
        "  #select a subset of members\n",
        "  subset = members[:n_members] \n",
        "  print(len(subset))\n",
        "  #make prediction\n",
        "  yhat = ensemble_predictions(subset, testX)\n",
        "  #calculate accuracy\n",
        "  return accuracy_score(testy, yhat)\n",
        "\n",
        "X, y = make_blobs(n_samples=500, centers=3, n_features=2, cluster_std=2, random_state=2)\n",
        "X_train, X_test, Y_train, Y_test = train_test_split(X,y,test_size = 0.3, random_state = 1)\n",
        "Y_train = to_categorical(Y_train)\n",
        "\n",
        "#fit all models\n",
        "n_members = 5\n",
        "members = [fit_model(X_train, Y_train) for _ in range(n_members)] #evaluate different numbers of ensembles\n",
        "scores = list()\n",
        "\n",
        "for i in range(1, n_members+1):\n",
        "  score = evaluate_n_members(members, i, X_test, Y_test)\n",
        "  print('> %.3f' % score)\n",
        "  scores.append(score)\n",
        "\n",
        "print(\"Average Accuracy Score : \", numpy.mean(score))\n",
        "#plot score vs number of ensemble members\n",
        "x_axis = [i for i in range(1, n_members+1)] \n",
        "pyplot.plot(x_axis, scores)\n",
        "pyplot.show()"
      ],
      "execution_count": 0,
      "outputs": [
        {
          "output_type": "stream",
          "text": [
            "1\n",
            "> 0.747\n",
            "2\n",
            "> 0.760\n",
            "3\n",
            "> 0.767\n",
            "4\n",
            "> 0.767\n",
            "5\n",
            "> 0.767\n",
            "Average Accuracy Score :  0.7666666666666667\n"
          ],
          "name": "stdout"
        },
        {
          "output_type": "display_data",
          "data": {
            "image/png": "[encoded data removed]",
            "text/plain": [
              "<matplotlib.figure.Figure at 0x7f9d809c9a90>"
            ]
          },
          "metadata": {
            "tags": []
          }
        }
      ]
    },
    {
      "metadata": {
        "id": "30PSMRwA66W2",
        "colab_type": "code",
        "colab": {}
      },
      "cell_type": "code",
      "source": [
        ""
      ],
      "execution_count": 0,
      "outputs": []
    }
  ]
}